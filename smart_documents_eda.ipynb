{
 "cells": [
  {
   "cell_type": "code",
   "id": "initial_id",
   "metadata": {
    "collapsed": true,
    "ExecuteTime": {
     "end_time": "2024-10-13T18:24:45.174328Z",
     "start_time": "2024-10-13T18:24:45.171755Z"
    }
   },
   "source": [
    "import pandas as pd\n",
    "import matplotlib.pyplot as plt\n",
    "import seaborn as sns"
   ],
   "outputs": [],
   "execution_count": 1
  },
  {
   "metadata": {
    "ExecuteTime": {
     "end_time": "2024-10-13T18:24:46.140759Z",
     "start_time": "2024-10-13T18:24:45.277423Z"
    }
   },
   "cell_type": "code",
   "source": [
    "df = pd.read_csv('test_dataset.csv')\n",
    "df.head()"
   ],
   "id": "c060c4a8356faee1",
   "outputs": [
    {
     "data": {
      "text/plain": [
       "                                      address  chain_id  \\\n",
       "0  0xc9d7bd1fad7d5621dda20335818e9575ae07ea03         1   \n",
       "1  0x357d4db0c2179886334cc33b8528048f7e1d3fe3         1   \n",
       "2  0x5954ab967bc958940b7eb73ee84797dc8a2afbb9         1   \n",
       "3  0x5c9ad7b877f06e751ee006a3f27546757bbe53dd     43114   \n",
       "4  0x7a720b4f627b9e6f688023f4f2cc6c6dd7bd923c       137   \n",
       "\n",
       "                                            bytecode  \\\n",
       "0  0x6080604052600436106103fe5760003560e01c806378...   \n",
       "1  0x608060405234801561001057600080fd5b5060043610...   \n",
       "2  0x608060405234801561001057600080fd5b5060043610...   \n",
       "3  0x6080604052600436106100955760003560e01c806372...   \n",
       "4  0x608060405234801561001057600080fd5b5060043610...   \n",
       "\n",
       "                                              opcode malicious_category_l1  \\\n",
       "0  PUSH1 PUSH1 MSTORE PUSH1 CALLDATASIZE LT PUSH2...                   NaN   \n",
       "1  PUSH1 PUSH1 MSTORE CALLVALUE DUP1 ISZERO PUSH2...                   NaN   \n",
       "2  PUSH1 PUSH1 MSTORE CALLVALUE DUP1 ISZERO PUSH2...                   NaN   \n",
       "3  PUSH1 PUSH1 MSTORE PUSH1 CALLDATASIZE LT PUSH2...                 Cyber   \n",
       "4  PUSH1 PUSH1 MSTORE CALLVALUE DUP1 ISZERO PUSH2...                   NaN   \n",
       "\n",
       "  malicious_category_l2             data_source man_validated  \\\n",
       "0                   NaN             White_Lists         False   \n",
       "1                   NaN             White_Lists         False   \n",
       "2                   NaN             White_Lists         False   \n",
       "3               Exploit  Public_Historical_Data         False   \n",
       "4                   NaN             Random_Data         False   \n",
       "\n",
       "  man_validated_by                                  comment    label  \n",
       "0              NaN                                      NaN    Clean  \n",
       "1              NaN                                      NaN    Clean  \n",
       "2              NaN                                      NaN    Clean  \n",
       "3              NaN  Data additionally gathered from Rekt db  Exploit  \n",
       "4              NaN                                      NaN    Clean  "
      ],
      "text/html": [
       "<div>\n",
       "<style scoped>\n",
       "    .dataframe tbody tr th:only-of-type {\n",
       "        vertical-align: middle;\n",
       "    }\n",
       "\n",
       "    .dataframe tbody tr th {\n",
       "        vertical-align: top;\n",
       "    }\n",
       "\n",
       "    .dataframe thead th {\n",
       "        text-align: right;\n",
       "    }\n",
       "</style>\n",
       "<table border=\"1\" class=\"dataframe\">\n",
       "  <thead>\n",
       "    <tr style=\"text-align: right;\">\n",
       "      <th></th>\n",
       "      <th>address</th>\n",
       "      <th>chain_id</th>\n",
       "      <th>bytecode</th>\n",
       "      <th>opcode</th>\n",
       "      <th>malicious_category_l1</th>\n",
       "      <th>malicious_category_l2</th>\n",
       "      <th>data_source</th>\n",
       "      <th>man_validated</th>\n",
       "      <th>man_validated_by</th>\n",
       "      <th>comment</th>\n",
       "      <th>label</th>\n",
       "    </tr>\n",
       "  </thead>\n",
       "  <tbody>\n",
       "    <tr>\n",
       "      <th>0</th>\n",
       "      <td>0xc9d7bd1fad7d5621dda20335818e9575ae07ea03</td>\n",
       "      <td>1</td>\n",
       "      <td>0x6080604052600436106103fe5760003560e01c806378...</td>\n",
       "      <td>PUSH1 PUSH1 MSTORE PUSH1 CALLDATASIZE LT PUSH2...</td>\n",
       "      <td>NaN</td>\n",
       "      <td>NaN</td>\n",
       "      <td>White_Lists</td>\n",
       "      <td>False</td>\n",
       "      <td>NaN</td>\n",
       "      <td>NaN</td>\n",
       "      <td>Clean</td>\n",
       "    </tr>\n",
       "    <tr>\n",
       "      <th>1</th>\n",
       "      <td>0x357d4db0c2179886334cc33b8528048f7e1d3fe3</td>\n",
       "      <td>1</td>\n",
       "      <td>0x608060405234801561001057600080fd5b5060043610...</td>\n",
       "      <td>PUSH1 PUSH1 MSTORE CALLVALUE DUP1 ISZERO PUSH2...</td>\n",
       "      <td>NaN</td>\n",
       "      <td>NaN</td>\n",
       "      <td>White_Lists</td>\n",
       "      <td>False</td>\n",
       "      <td>NaN</td>\n",
       "      <td>NaN</td>\n",
       "      <td>Clean</td>\n",
       "    </tr>\n",
       "    <tr>\n",
       "      <th>2</th>\n",
       "      <td>0x5954ab967bc958940b7eb73ee84797dc8a2afbb9</td>\n",
       "      <td>1</td>\n",
       "      <td>0x608060405234801561001057600080fd5b5060043610...</td>\n",
       "      <td>PUSH1 PUSH1 MSTORE CALLVALUE DUP1 ISZERO PUSH2...</td>\n",
       "      <td>NaN</td>\n",
       "      <td>NaN</td>\n",
       "      <td>White_Lists</td>\n",
       "      <td>False</td>\n",
       "      <td>NaN</td>\n",
       "      <td>NaN</td>\n",
       "      <td>Clean</td>\n",
       "    </tr>\n",
       "    <tr>\n",
       "      <th>3</th>\n",
       "      <td>0x5c9ad7b877f06e751ee006a3f27546757bbe53dd</td>\n",
       "      <td>43114</td>\n",
       "      <td>0x6080604052600436106100955760003560e01c806372...</td>\n",
       "      <td>PUSH1 PUSH1 MSTORE PUSH1 CALLDATASIZE LT PUSH2...</td>\n",
       "      <td>Cyber</td>\n",
       "      <td>Exploit</td>\n",
       "      <td>Public_Historical_Data</td>\n",
       "      <td>False</td>\n",
       "      <td>NaN</td>\n",
       "      <td>Data additionally gathered from Rekt db</td>\n",
       "      <td>Exploit</td>\n",
       "    </tr>\n",
       "    <tr>\n",
       "      <th>4</th>\n",
       "      <td>0x7a720b4f627b9e6f688023f4f2cc6c6dd7bd923c</td>\n",
       "      <td>137</td>\n",
       "      <td>0x608060405234801561001057600080fd5b5060043610...</td>\n",
       "      <td>PUSH1 PUSH1 MSTORE CALLVALUE DUP1 ISZERO PUSH2...</td>\n",
       "      <td>NaN</td>\n",
       "      <td>NaN</td>\n",
       "      <td>Random_Data</td>\n",
       "      <td>False</td>\n",
       "      <td>NaN</td>\n",
       "      <td>NaN</td>\n",
       "      <td>Clean</td>\n",
       "    </tr>\n",
       "  </tbody>\n",
       "</table>\n",
       "</div>"
      ]
     },
     "execution_count": 2,
     "metadata": {},
     "output_type": "execute_result"
    }
   ],
   "execution_count": 2
  },
  {
   "metadata": {
    "ExecuteTime": {
     "end_time": "2024-10-13T18:24:46.144526Z",
     "start_time": "2024-10-13T18:24:46.141623Z"
    }
   },
   "cell_type": "code",
   "source": [
    "print(df.shape)\n",
    "df.columns"
   ],
   "id": "870e25341f023ec9",
   "outputs": [
    {
     "name": "stdout",
     "output_type": "stream",
     "text": [
      "(3923, 11)\n"
     ]
    },
    {
     "data": {
      "text/plain": [
       "Index(['address', 'chain_id', 'bytecode', 'opcode', 'malicious_category_l1',\n",
       "       'malicious_category_l2', 'data_source', 'man_validated',\n",
       "       'man_validated_by', 'comment', 'label'],\n",
       "      dtype='object')"
      ]
     },
     "execution_count": 3,
     "metadata": {},
     "output_type": "execute_result"
    }
   ],
   "execution_count": 3
  },
  {
   "metadata": {
    "ExecuteTime": {
     "end_time": "2024-10-13T18:24:46.158360Z",
     "start_time": "2024-10-13T18:24:46.145378Z"
    }
   },
   "cell_type": "code",
   "source": "df.isnull().sum()",
   "id": "bf2441cdba47ccf",
   "outputs": [
    {
     "data": {
      "text/plain": [
       "address                     0\n",
       "chain_id                    0\n",
       "bytecode                    0\n",
       "opcode                      0\n",
       "malicious_category_l1    3373\n",
       "malicious_category_l2    3373\n",
       "data_source                 0\n",
       "man_validated             132\n",
       "man_validated_by         2979\n",
       "comment                  2919\n",
       "label                       0\n",
       "dtype: int64"
      ]
     },
     "execution_count": 4,
     "metadata": {},
     "output_type": "execute_result"
    }
   ],
   "execution_count": 4
  },
  {
   "metadata": {},
   "cell_type": "markdown",
   "source": "# First explore label related data",
   "id": "a71c05c6051a6b88"
  },
  {
   "metadata": {
    "ExecuteTime": {
     "end_time": "2024-10-13T18:24:46.163200Z",
     "start_time": "2024-10-13T18:24:46.159531Z"
    }
   },
   "cell_type": "code",
   "source": "df[\"label\"].value_counts()",
   "id": "c515dceabfee25af",
   "outputs": [
    {
     "data": {
      "text/plain": [
       "label\n",
       "Clean            3374\n",
       "Exploit           349\n",
       "FinancialScam     200\n",
       "Name: count, dtype: int64"
      ]
     },
     "execution_count": 5,
     "metadata": {},
     "output_type": "execute_result"
    }
   ],
   "execution_count": 5
  },
  {
   "metadata": {
    "ExecuteTime": {
     "end_time": "2024-10-13T18:24:46.168480Z",
     "start_time": "2024-10-13T18:24:46.163816Z"
    }
   },
   "cell_type": "code",
   "source": "df[[\"malicious_category_l1\", \"malicious_category_l2\"]].value_counts()",
   "id": "1e8dc20407aa15f4",
   "outputs": [
    {
     "data": {
      "text/plain": [
       "malicious_category_l1  malicious_category_l2\n",
       "Cyber                  Exploit                  349\n",
       "Fraud                  FinancialScam            201\n",
       "Name: count, dtype: int64"
      ]
     },
     "execution_count": 6,
     "metadata": {},
     "output_type": "execute_result"
    }
   ],
   "execution_count": 6
  },
  {
   "metadata": {
    "ExecuteTime": {
     "end_time": "2024-10-13T18:24:46.172483Z",
     "start_time": "2024-10-13T18:24:46.168999Z"
    }
   },
   "cell_type": "code",
   "source": [
    "# combine the two columns into one\n",
    "df[\"malicious_category\"] = df[\"malicious_category_l1\"] + df[\"malicious_category_l2\"]\n",
    "df[\"malicious_category\"] = df[\"malicious_category\"].fillna(\"nan\")\n",
    "df.drop(columns=[\"malicious_category_l1\", \"malicious_category_l2\"], inplace=True)"
   ],
   "id": "debe293204c286f5",
   "outputs": [],
   "execution_count": 7
  },
  {
   "metadata": {
    "ExecuteTime": {
     "end_time": "2024-10-13T18:24:46.177259Z",
     "start_time": "2024-10-13T18:24:46.172995Z"
    }
   },
   "cell_type": "code",
   "source": "df[[\"malicious_category\", \"label\"]].value_counts()",
   "id": "bd26e21335c93227",
   "outputs": [
    {
     "data": {
      "text/plain": [
       "malicious_category  label        \n",
       "nan                 Clean            3373\n",
       "CyberExploit        Exploit           349\n",
       "FraudFinancialScam  FinancialScam     200\n",
       "                    Clean               1\n",
       "Name: count, dtype: int64"
      ]
     },
     "execution_count": 8,
     "metadata": {},
     "output_type": "execute_result"
    }
   ],
   "execution_count": 8
  },
  {
   "metadata": {
    "ExecuteTime": {
     "end_time": "2024-10-13T18:24:46.182960Z",
     "start_time": "2024-10-13T18:24:46.177765Z"
    }
   },
   "cell_type": "code",
   "source": "df[(df[\"label\"]!=\"FinancialScam\")&(df[\"malicious_category\"]==\"FraudFinancialScam\")]",
   "id": "7cca74393494605c",
   "outputs": [
    {
     "data": {
      "text/plain": [
       "                                         address  chain_id  \\\n",
       "2242  0x71f57929a3c4387dc9573413059a9dc8b106bdce        56   \n",
       "\n",
       "                                               bytecode  \\\n",
       "2242  0x608060405234801561001057600080fd5b5060043610...   \n",
       "\n",
       "                                                 opcode  \\\n",
       "2242  PUSH1 PUSH1 MSTORE CALLVALUE DUP1 ISZERO PUSH2...   \n",
       "\n",
       "                 data_source man_validated man_validated_by  \\\n",
       "2242  Public_Historical_Data           NaN              NaN   \n",
       "\n",
       "                         comment  label  malicious_category  \n",
       "2242  reported by HashDit, ponzi  Clean  FraudFinancialScam  "
      ],
      "text/html": [
       "<div>\n",
       "<style scoped>\n",
       "    .dataframe tbody tr th:only-of-type {\n",
       "        vertical-align: middle;\n",
       "    }\n",
       "\n",
       "    .dataframe tbody tr th {\n",
       "        vertical-align: top;\n",
       "    }\n",
       "\n",
       "    .dataframe thead th {\n",
       "        text-align: right;\n",
       "    }\n",
       "</style>\n",
       "<table border=\"1\" class=\"dataframe\">\n",
       "  <thead>\n",
       "    <tr style=\"text-align: right;\">\n",
       "      <th></th>\n",
       "      <th>address</th>\n",
       "      <th>chain_id</th>\n",
       "      <th>bytecode</th>\n",
       "      <th>opcode</th>\n",
       "      <th>data_source</th>\n",
       "      <th>man_validated</th>\n",
       "      <th>man_validated_by</th>\n",
       "      <th>comment</th>\n",
       "      <th>label</th>\n",
       "      <th>malicious_category</th>\n",
       "    </tr>\n",
       "  </thead>\n",
       "  <tbody>\n",
       "    <tr>\n",
       "      <th>2242</th>\n",
       "      <td>0x71f57929a3c4387dc9573413059a9dc8b106bdce</td>\n",
       "      <td>56</td>\n",
       "      <td>0x608060405234801561001057600080fd5b5060043610...</td>\n",
       "      <td>PUSH1 PUSH1 MSTORE CALLVALUE DUP1 ISZERO PUSH2...</td>\n",
       "      <td>Public_Historical_Data</td>\n",
       "      <td>NaN</td>\n",
       "      <td>NaN</td>\n",
       "      <td>reported by HashDit, ponzi</td>\n",
       "      <td>Clean</td>\n",
       "      <td>FraudFinancialScam</td>\n",
       "    </tr>\n",
       "  </tbody>\n",
       "</table>\n",
       "</div>"
      ]
     },
     "execution_count": 9,
     "metadata": {},
     "output_type": "execute_result"
    }
   ],
   "execution_count": 9
  },
  {
   "metadata": {
    "ExecuteTime": {
     "end_time": "2024-10-13T18:24:46.188618Z",
     "start_time": "2024-10-13T18:24:46.183465Z"
    }
   },
   "cell_type": "code",
   "source": [
    "# there is a risk that this sample has a wrong label, since data on it is ambiguous, so I delete it\n",
    "df = df[~((df[\"label\"]!=\"FinancialScam\")&(df[\"malicious_category\"]==\"FraudFinancialScam\"))]\n",
    "df[[\"malicious_category\", \"label\"]].value_counts()"
   ],
   "id": "da5d76d5b19e66c7",
   "outputs": [
    {
     "data": {
      "text/plain": [
       "malicious_category  label        \n",
       "nan                 Clean            3373\n",
       "CyberExploit        Exploit           349\n",
       "FraudFinancialScam  FinancialScam     200\n",
       "Name: count, dtype: int64"
      ]
     },
     "execution_count": 10,
     "metadata": {},
     "output_type": "execute_result"
    }
   ],
   "execution_count": 10
  },
  {
   "metadata": {
    "ExecuteTime": {
     "end_time": "2024-10-13T18:24:46.192051Z",
     "start_time": "2024-10-13T18:24:46.189777Z"
    }
   },
   "cell_type": "code",
   "source": [
    "# now \"malicious_category\" is one-to-one to \"label\" so it is not needed\n",
    "df.drop(columns=[\"malicious_category\"], inplace=True)"
   ],
   "id": "2100d5bce23a0269",
   "outputs": [],
   "execution_count": 11
  },
  {
   "metadata": {},
   "cell_type": "markdown",
   "source": "# Final labels proportion",
   "id": "ceff437e61e117b1"
  },
  {
   "metadata": {
    "ExecuteTime": {
     "end_time": "2024-10-13T18:24:46.197Z",
     "start_time": "2024-10-13T18:24:46.192586Z"
    }
   },
   "cell_type": "code",
   "source": "(df[\"label\"].value_counts()*100/len(df)).transform({\"count\": lambda x: round(x, 1)})",
   "id": "9491585b3d5951d4",
   "outputs": [
    {
     "data": {
      "text/plain": [
       "               count\n",
       "label               \n",
       "Clean           86.0\n",
       "Exploit          8.9\n",
       "FinancialScam    5.1"
      ],
      "text/html": [
       "<div>\n",
       "<style scoped>\n",
       "    .dataframe tbody tr th:only-of-type {\n",
       "        vertical-align: middle;\n",
       "    }\n",
       "\n",
       "    .dataframe tbody tr th {\n",
       "        vertical-align: top;\n",
       "    }\n",
       "\n",
       "    .dataframe thead th {\n",
       "        text-align: right;\n",
       "    }\n",
       "</style>\n",
       "<table border=\"1\" class=\"dataframe\">\n",
       "  <thead>\n",
       "    <tr style=\"text-align: right;\">\n",
       "      <th></th>\n",
       "      <th>count</th>\n",
       "    </tr>\n",
       "    <tr>\n",
       "      <th>label</th>\n",
       "      <th></th>\n",
       "    </tr>\n",
       "  </thead>\n",
       "  <tbody>\n",
       "    <tr>\n",
       "      <th>Clean</th>\n",
       "      <td>86.0</td>\n",
       "    </tr>\n",
       "    <tr>\n",
       "      <th>Exploit</th>\n",
       "      <td>8.9</td>\n",
       "    </tr>\n",
       "    <tr>\n",
       "      <th>FinancialScam</th>\n",
       "      <td>5.1</td>\n",
       "    </tr>\n",
       "  </tbody>\n",
       "</table>\n",
       "</div>"
      ]
     },
     "execution_count": 12,
     "metadata": {},
     "output_type": "execute_result"
    }
   ],
   "execution_count": 12
  },
  {
   "metadata": {
    "ExecuteTime": {
     "end_time": "2024-10-13T18:24:46.199925Z",
     "start_time": "2024-10-13T18:24:46.197607Z"
    }
   },
   "cell_type": "code",
   "source": "print(f\"{round(df[\"man_validated\"].sum()/len(df)*100, 1)} % human verified\")",
   "id": "f243b7eecda78e49",
   "outputs": [
    {
     "name": "stdout",
     "output_type": "stream",
     "text": [
      "24.2 % human verified\n"
     ]
    }
   ],
   "execution_count": 13
  },
  {
   "metadata": {
    "ExecuteTime": {
     "end_time": "2024-10-13T18:24:46.205858Z",
     "start_time": "2024-10-13T18:24:46.200465Z"
    }
   },
   "cell_type": "code",
   "source": "df[[\"label\", \"man_validated\"]].value_counts().to_frame().sort_values(by=[\"label\", \"man_validated\"])",
   "id": "5124b3372ee0b8aa",
   "outputs": [
    {
     "data": {
      "text/plain": [
       "                             count\n",
       "label         man_validated       \n",
       "Clean         False           2724\n",
       "              True             610\n",
       "Exploit       False            109\n",
       "              True             184\n",
       "FinancialScam False              8\n",
       "              True             156"
      ],
      "text/html": [
       "<div>\n",
       "<style scoped>\n",
       "    .dataframe tbody tr th:only-of-type {\n",
       "        vertical-align: middle;\n",
       "    }\n",
       "\n",
       "    .dataframe tbody tr th {\n",
       "        vertical-align: top;\n",
       "    }\n",
       "\n",
       "    .dataframe thead th {\n",
       "        text-align: right;\n",
       "    }\n",
       "</style>\n",
       "<table border=\"1\" class=\"dataframe\">\n",
       "  <thead>\n",
       "    <tr style=\"text-align: right;\">\n",
       "      <th></th>\n",
       "      <th></th>\n",
       "      <th>count</th>\n",
       "    </tr>\n",
       "    <tr>\n",
       "      <th>label</th>\n",
       "      <th>man_validated</th>\n",
       "      <th></th>\n",
       "    </tr>\n",
       "  </thead>\n",
       "  <tbody>\n",
       "    <tr>\n",
       "      <th rowspan=\"2\" valign=\"top\">Clean</th>\n",
       "      <th>False</th>\n",
       "      <td>2724</td>\n",
       "    </tr>\n",
       "    <tr>\n",
       "      <th>True</th>\n",
       "      <td>610</td>\n",
       "    </tr>\n",
       "    <tr>\n",
       "      <th rowspan=\"2\" valign=\"top\">Exploit</th>\n",
       "      <th>False</th>\n",
       "      <td>109</td>\n",
       "    </tr>\n",
       "    <tr>\n",
       "      <th>True</th>\n",
       "      <td>184</td>\n",
       "    </tr>\n",
       "    <tr>\n",
       "      <th rowspan=\"2\" valign=\"top\">FinancialScam</th>\n",
       "      <th>False</th>\n",
       "      <td>8</td>\n",
       "    </tr>\n",
       "    <tr>\n",
       "      <th>True</th>\n",
       "      <td>156</td>\n",
       "    </tr>\n",
       "  </tbody>\n",
       "</table>\n",
       "</div>"
      ]
     },
     "execution_count": 14,
     "metadata": {},
     "output_type": "execute_result"
    }
   ],
   "execution_count": 14
  },
  {
   "metadata": {
    "ExecuteTime": {
     "end_time": "2024-10-13T18:24:46.209593Z",
     "start_time": "2024-10-13T18:24:46.206447Z"
    }
   },
   "cell_type": "code",
   "source": "df[\"address\"].value_counts().rename(\"address_count\").value_counts()",
   "id": "92253abb154c619f",
   "outputs": [
    {
     "data": {
      "text/plain": [
       "address_count\n",
       "1    3890\n",
       "2      16\n",
       "Name: count, dtype: int64"
      ]
     },
     "execution_count": 15,
     "metadata": {},
     "output_type": "execute_result"
    }
   ],
   "execution_count": 15
  },
  {
   "metadata": {
    "ExecuteTime": {
     "end_time": "2024-10-13T18:24:46.215336Z",
     "start_time": "2024-10-13T18:24:46.210060Z"
    }
   },
   "cell_type": "code",
   "source": "df[df[\"address\"].isin(df[\"address\"].value_counts()[df[\"address\"].value_counts()==2].index)][[\"address\", \"label\"]].value_counts()",
   "id": "352cb205810d5c6",
   "outputs": [
    {
     "data": {
      "text/plain": [
       "address                                     label  \n",
       "0x1896adbe708bf91158748b3f33738ba497a69e8f  Clean      2\n",
       "0x23208b91a98c7c1cd9fe63085bff68311494f193  Clean      2\n",
       "0x26cfb7ef8fce43c8819b33c02f3d0498072e6fe1  Clean      2\n",
       "0x2e96068b3d5b5bae3d7515da4a1d2e52d08a2647  Clean      2\n",
       "0x634322671380cf1ee7bd555a77fcdd41e680d817  Clean      2\n",
       "0x64b57f4249aa99a812212cee7daefedc40b203cd  Clean      2\n",
       "0x831091da075665168e01898c6dac004a867f1e1b  Clean      2\n",
       "0x8c425ee62d18b65cc975767c27c42de548d133a1  Exploit    2\n",
       "0x8ef71fde0681f567d241a2cb7f2ae46d6d709d30  Clean      2\n",
       "0x9bbdef63594d5ffc2f370fe52115ddffe97bc524  Clean      2\n",
       "0x9be508ce41ae5795e1ebc247101c40da7d5742db  Exploit    2\n",
       "0xa489fdc65229d6225014c0b357bcd19af6f00ee9  Clean      2\n",
       "0xb4315e873dbcf96ffd0acd8ea43f689d8c20fb30  Clean      2\n",
       "0xc0a47dfe034b400b47bdad5fecda2621de6c4d95  Clean      2\n",
       "0xdfcdb5a86b167b3a418f3909d6f7a2f2873f2969  Exploit    2\n",
       "0xe2a113cb9a5f7b4d37ce695bfada59dc4c08cc2b  Clean      2\n",
       "Name: count, dtype: int64"
      ]
     },
     "execution_count": 16,
     "metadata": {},
     "output_type": "execute_result"
    }
   ],
   "execution_count": 16
  },
  {
   "metadata": {},
   "cell_type": "markdown",
   "source": "# black listed addresses:",
   "id": "e1c40ebc5e57b555"
  },
  {
   "metadata": {
    "ExecuteTime": {
     "end_time": "2024-10-13T18:24:46.220148Z",
     "start_time": "2024-10-13T18:24:46.215806Z"
    }
   },
   "cell_type": "code",
   "source": "df[(df[\"address\"].isin(df[\"address\"].value_counts()[df[\"address\"].value_counts()==2].index))&(df[\"label\"]!=\"Clean\")][\"address\"].unique()",
   "id": "3151fb7f01c4e168",
   "outputs": [
    {
     "data": {
      "text/plain": [
       "array(['0xdfcdb5a86b167b3a418f3909d6f7a2f2873f2969',\n",
       "       '0x8c425ee62d18b65cc975767c27c42de548d133a1',\n",
       "       '0x9be508ce41ae5795e1ebc247101c40da7d5742db'], dtype=object)"
      ]
     },
     "execution_count": 17,
     "metadata": {},
     "output_type": "execute_result"
    }
   ],
   "execution_count": 17
  },
  {
   "metadata": {},
   "cell_type": "markdown",
   "source": "### Chain ID and data source",
   "id": "475558ad186b4e1a"
  },
  {
   "metadata": {
    "ExecuteTime": {
     "end_time": "2024-10-13T18:24:46.223068Z",
     "start_time": "2024-10-13T18:24:46.220628Z"
    }
   },
   "cell_type": "code",
   "source": "df[\"chain_id\"].value_counts()",
   "id": "57af69432666ac06",
   "outputs": [
    {
     "data": {
      "text/plain": [
       "chain_id\n",
       "1        2232\n",
       "56        531\n",
       "42161     468\n",
       "137       409\n",
       "43114     194\n",
       "10         47\n",
       "99999      41\n",
       "Name: count, dtype: int64"
      ]
     },
     "execution_count": 18,
     "metadata": {},
     "output_type": "execute_result"
    }
   ],
   "execution_count": 18
  },
  {
   "metadata": {
    "ExecuteTime": {
     "end_time": "2024-10-13T18:24:46.230501Z",
     "start_time": "2024-10-13T18:24:46.223538Z"
    }
   },
   "cell_type": "code",
   "source": [
    "# total proportion\n",
    "(df[[\"chain_id\", \"label\"]].value_counts()*100/len(df)).to_frame().sort_values(by=[\"label\", \"count\"], ascending=False).transform({\"count\": lambda x: round(x, 1)})"
   ],
   "id": "c5e90457ea7a012",
   "outputs": [
    {
     "data": {
      "text/plain": [
       "                        count\n",
       "chain_id label               \n",
       "56       FinancialScam    2.5\n",
       "1        FinancialScam    1.0\n",
       "137      FinancialScam    0.8\n",
       "42161    FinancialScam    0.4\n",
       "10       FinancialScam    0.2\n",
       "43114    FinancialScam    0.1\n",
       "99999    FinancialScam    0.1\n",
       "56       Exploit          4.0\n",
       "1        Exploit          2.9\n",
       "137      Exploit          1.0\n",
       "42161    Exploit          0.6\n",
       "43114    Exploit          0.4\n",
       "99999    Exploit          0.1\n",
       "1        Clean           53.0\n",
       "42161    Clean           10.9\n",
       "137      Clean            8.6\n",
       "56       Clean            7.1\n",
       "43114    Clean            4.4\n",
       "10       Clean            1.0\n",
       "99999    Clean            0.9"
      ],
      "text/html": [
       "<div>\n",
       "<style scoped>\n",
       "    .dataframe tbody tr th:only-of-type {\n",
       "        vertical-align: middle;\n",
       "    }\n",
       "\n",
       "    .dataframe tbody tr th {\n",
       "        vertical-align: top;\n",
       "    }\n",
       "\n",
       "    .dataframe thead th {\n",
       "        text-align: right;\n",
       "    }\n",
       "</style>\n",
       "<table border=\"1\" class=\"dataframe\">\n",
       "  <thead>\n",
       "    <tr style=\"text-align: right;\">\n",
       "      <th></th>\n",
       "      <th></th>\n",
       "      <th>count</th>\n",
       "    </tr>\n",
       "    <tr>\n",
       "      <th>chain_id</th>\n",
       "      <th>label</th>\n",
       "      <th></th>\n",
       "    </tr>\n",
       "  </thead>\n",
       "  <tbody>\n",
       "    <tr>\n",
       "      <th>56</th>\n",
       "      <th>FinancialScam</th>\n",
       "      <td>2.5</td>\n",
       "    </tr>\n",
       "    <tr>\n",
       "      <th>1</th>\n",
       "      <th>FinancialScam</th>\n",
       "      <td>1.0</td>\n",
       "    </tr>\n",
       "    <tr>\n",
       "      <th>137</th>\n",
       "      <th>FinancialScam</th>\n",
       "      <td>0.8</td>\n",
       "    </tr>\n",
       "    <tr>\n",
       "      <th>42161</th>\n",
       "      <th>FinancialScam</th>\n",
       "      <td>0.4</td>\n",
       "    </tr>\n",
       "    <tr>\n",
       "      <th>10</th>\n",
       "      <th>FinancialScam</th>\n",
       "      <td>0.2</td>\n",
       "    </tr>\n",
       "    <tr>\n",
       "      <th>43114</th>\n",
       "      <th>FinancialScam</th>\n",
       "      <td>0.1</td>\n",
       "    </tr>\n",
       "    <tr>\n",
       "      <th>99999</th>\n",
       "      <th>FinancialScam</th>\n",
       "      <td>0.1</td>\n",
       "    </tr>\n",
       "    <tr>\n",
       "      <th>56</th>\n",
       "      <th>Exploit</th>\n",
       "      <td>4.0</td>\n",
       "    </tr>\n",
       "    <tr>\n",
       "      <th>1</th>\n",
       "      <th>Exploit</th>\n",
       "      <td>2.9</td>\n",
       "    </tr>\n",
       "    <tr>\n",
       "      <th>137</th>\n",
       "      <th>Exploit</th>\n",
       "      <td>1.0</td>\n",
       "    </tr>\n",
       "    <tr>\n",
       "      <th>42161</th>\n",
       "      <th>Exploit</th>\n",
       "      <td>0.6</td>\n",
       "    </tr>\n",
       "    <tr>\n",
       "      <th>43114</th>\n",
       "      <th>Exploit</th>\n",
       "      <td>0.4</td>\n",
       "    </tr>\n",
       "    <tr>\n",
       "      <th>99999</th>\n",
       "      <th>Exploit</th>\n",
       "      <td>0.1</td>\n",
       "    </tr>\n",
       "    <tr>\n",
       "      <th>1</th>\n",
       "      <th>Clean</th>\n",
       "      <td>53.0</td>\n",
       "    </tr>\n",
       "    <tr>\n",
       "      <th>42161</th>\n",
       "      <th>Clean</th>\n",
       "      <td>10.9</td>\n",
       "    </tr>\n",
       "    <tr>\n",
       "      <th>137</th>\n",
       "      <th>Clean</th>\n",
       "      <td>8.6</td>\n",
       "    </tr>\n",
       "    <tr>\n",
       "      <th>56</th>\n",
       "      <th>Clean</th>\n",
       "      <td>7.1</td>\n",
       "    </tr>\n",
       "    <tr>\n",
       "      <th>43114</th>\n",
       "      <th>Clean</th>\n",
       "      <td>4.4</td>\n",
       "    </tr>\n",
       "    <tr>\n",
       "      <th>10</th>\n",
       "      <th>Clean</th>\n",
       "      <td>1.0</td>\n",
       "    </tr>\n",
       "    <tr>\n",
       "      <th>99999</th>\n",
       "      <th>Clean</th>\n",
       "      <td>0.9</td>\n",
       "    </tr>\n",
       "  </tbody>\n",
       "</table>\n",
       "</div>"
      ]
     },
     "execution_count": 19,
     "metadata": {},
     "output_type": "execute_result"
    }
   ],
   "execution_count": 19
  },
  {
   "metadata": {
    "ExecuteTime": {
     "end_time": "2024-10-13T18:24:46.237443Z",
     "start_time": "2024-10-13T18:24:46.231005Z"
    }
   },
   "cell_type": "code",
   "source": [
    "# proportion for each chain id\n",
    "(df[[\"chain_id\", \"label\"]].value_counts()*100/df[\"chain_id\"].value_counts()).to_frame().sort_values(by=[\"chain_id\", \"count\"], ascending=False).transform({\"count\": lambda x: round(x, 1)})"
   ],
   "id": "7ce6f331a5b44265",
   "outputs": [
    {
     "data": {
      "text/plain": [
       "                        count\n",
       "chain_id label               \n",
       "99999    Clean           85.4\n",
       "         Exploit          7.3\n",
       "         FinancialScam    7.3\n",
       "43114    Clean           89.2\n",
       "         Exploit          8.2\n",
       "         FinancialScam    2.6\n",
       "42161    Clean           91.2\n",
       "         Exploit          5.1\n",
       "         FinancialScam    3.6\n",
       "137      Clean           82.9\n",
       "         Exploit          9.3\n",
       "         FinancialScam    7.8\n",
       "56       Clean           52.4\n",
       "         Exploit         29.2\n",
       "         FinancialScam   18.5\n",
       "10       Clean           87.2\n",
       "         FinancialScam   12.8\n",
       "1        Clean           93.2\n",
       "         Exploit          5.1\n",
       "         FinancialScam    1.7"
      ],
      "text/html": [
       "<div>\n",
       "<style scoped>\n",
       "    .dataframe tbody tr th:only-of-type {\n",
       "        vertical-align: middle;\n",
       "    }\n",
       "\n",
       "    .dataframe tbody tr th {\n",
       "        vertical-align: top;\n",
       "    }\n",
       "\n",
       "    .dataframe thead th {\n",
       "        text-align: right;\n",
       "    }\n",
       "</style>\n",
       "<table border=\"1\" class=\"dataframe\">\n",
       "  <thead>\n",
       "    <tr style=\"text-align: right;\">\n",
       "      <th></th>\n",
       "      <th></th>\n",
       "      <th>count</th>\n",
       "    </tr>\n",
       "    <tr>\n",
       "      <th>chain_id</th>\n",
       "      <th>label</th>\n",
       "      <th></th>\n",
       "    </tr>\n",
       "  </thead>\n",
       "  <tbody>\n",
       "    <tr>\n",
       "      <th rowspan=\"3\" valign=\"top\">99999</th>\n",
       "      <th>Clean</th>\n",
       "      <td>85.4</td>\n",
       "    </tr>\n",
       "    <tr>\n",
       "      <th>Exploit</th>\n",
       "      <td>7.3</td>\n",
       "    </tr>\n",
       "    <tr>\n",
       "      <th>FinancialScam</th>\n",
       "      <td>7.3</td>\n",
       "    </tr>\n",
       "    <tr>\n",
       "      <th rowspan=\"3\" valign=\"top\">43114</th>\n",
       "      <th>Clean</th>\n",
       "      <td>89.2</td>\n",
       "    </tr>\n",
       "    <tr>\n",
       "      <th>Exploit</th>\n",
       "      <td>8.2</td>\n",
       "    </tr>\n",
       "    <tr>\n",
       "      <th>FinancialScam</th>\n",
       "      <td>2.6</td>\n",
       "    </tr>\n",
       "    <tr>\n",
       "      <th rowspan=\"3\" valign=\"top\">42161</th>\n",
       "      <th>Clean</th>\n",
       "      <td>91.2</td>\n",
       "    </tr>\n",
       "    <tr>\n",
       "      <th>Exploit</th>\n",
       "      <td>5.1</td>\n",
       "    </tr>\n",
       "    <tr>\n",
       "      <th>FinancialScam</th>\n",
       "      <td>3.6</td>\n",
       "    </tr>\n",
       "    <tr>\n",
       "      <th rowspan=\"3\" valign=\"top\">137</th>\n",
       "      <th>Clean</th>\n",
       "      <td>82.9</td>\n",
       "    </tr>\n",
       "    <tr>\n",
       "      <th>Exploit</th>\n",
       "      <td>9.3</td>\n",
       "    </tr>\n",
       "    <tr>\n",
       "      <th>FinancialScam</th>\n",
       "      <td>7.8</td>\n",
       "    </tr>\n",
       "    <tr>\n",
       "      <th rowspan=\"3\" valign=\"top\">56</th>\n",
       "      <th>Clean</th>\n",
       "      <td>52.4</td>\n",
       "    </tr>\n",
       "    <tr>\n",
       "      <th>Exploit</th>\n",
       "      <td>29.2</td>\n",
       "    </tr>\n",
       "    <tr>\n",
       "      <th>FinancialScam</th>\n",
       "      <td>18.5</td>\n",
       "    </tr>\n",
       "    <tr>\n",
       "      <th rowspan=\"2\" valign=\"top\">10</th>\n",
       "      <th>Clean</th>\n",
       "      <td>87.2</td>\n",
       "    </tr>\n",
       "    <tr>\n",
       "      <th>FinancialScam</th>\n",
       "      <td>12.8</td>\n",
       "    </tr>\n",
       "    <tr>\n",
       "      <th rowspan=\"3\" valign=\"top\">1</th>\n",
       "      <th>Clean</th>\n",
       "      <td>93.2</td>\n",
       "    </tr>\n",
       "    <tr>\n",
       "      <th>Exploit</th>\n",
       "      <td>5.1</td>\n",
       "    </tr>\n",
       "    <tr>\n",
       "      <th>FinancialScam</th>\n",
       "      <td>1.7</td>\n",
       "    </tr>\n",
       "  </tbody>\n",
       "</table>\n",
       "</div>"
      ]
     },
     "execution_count": 20,
     "metadata": {},
     "output_type": "execute_result"
    }
   ],
   "execution_count": 20
  },
  {
   "metadata": {
    "ExecuteTime": {
     "end_time": "2024-10-13T18:24:46.240450Z",
     "start_time": "2024-10-13T18:24:46.237942Z"
    }
   },
   "cell_type": "code",
   "source": "df[\"data_source\"].value_counts()",
   "id": "61c029681a1f8c21",
   "outputs": [
    {
     "data": {
      "text/plain": [
       "data_source\n",
       "White_Lists                2361\n",
       "Manual_Validation           727\n",
       "Random_Data                 367\n",
       "Public_Historical_Data      352\n",
       "Monitoring_and_Feedback     115\n",
       "Name: count, dtype: int64"
      ]
     },
     "execution_count": 21,
     "metadata": {},
     "output_type": "execute_result"
    }
   ],
   "execution_count": 21
  },
  {
   "metadata": {
    "ExecuteTime": {
     "end_time": "2024-10-13T18:24:46.246418Z",
     "start_time": "2024-10-13T18:24:46.240877Z"
    }
   },
   "cell_type": "code",
   "source": [
    "# total proportion\n",
    "(df[[\"data_source\", \"label\"]].value_counts()*100/len(df)).to_frame().sort_values(by=[\"label\", \"count\"], ascending=False).transform({\"count\": lambda x: round(x, 1)})"
   ],
   "id": "f8992183ebb8a65c",
   "outputs": [
    {
     "data": {
      "text/plain": [
       "                                       count\n",
       "data_source             label               \n",
       "Manual_Validation       FinancialScam    2.7\n",
       "Monitoring_and_Feedback FinancialScam    1.6\n",
       "Public_Historical_Data  FinancialScam    0.7\n",
       "Random_Data             FinancialScam    0.1\n",
       "Public_Historical_Data  Exploit          8.2\n",
       "Monitoring_and_Feedback Exploit          0.4\n",
       "Manual_Validation       Exploit          0.3\n",
       "Random_Data             Exploit          0.0\n",
       "White_Lists             Clean           60.2\n",
       "Manual_Validation       Clean           15.6\n",
       "Random_Data             Clean            9.3\n",
       "Monitoring_and_Feedback Clean            0.9\n",
       "Public_Historical_Data  Clean            0.1"
      ],
      "text/html": [
       "<div>\n",
       "<style scoped>\n",
       "    .dataframe tbody tr th:only-of-type {\n",
       "        vertical-align: middle;\n",
       "    }\n",
       "\n",
       "    .dataframe tbody tr th {\n",
       "        vertical-align: top;\n",
       "    }\n",
       "\n",
       "    .dataframe thead th {\n",
       "        text-align: right;\n",
       "    }\n",
       "</style>\n",
       "<table border=\"1\" class=\"dataframe\">\n",
       "  <thead>\n",
       "    <tr style=\"text-align: right;\">\n",
       "      <th></th>\n",
       "      <th></th>\n",
       "      <th>count</th>\n",
       "    </tr>\n",
       "    <tr>\n",
       "      <th>data_source</th>\n",
       "      <th>label</th>\n",
       "      <th></th>\n",
       "    </tr>\n",
       "  </thead>\n",
       "  <tbody>\n",
       "    <tr>\n",
       "      <th>Manual_Validation</th>\n",
       "      <th>FinancialScam</th>\n",
       "      <td>2.7</td>\n",
       "    </tr>\n",
       "    <tr>\n",
       "      <th>Monitoring_and_Feedback</th>\n",
       "      <th>FinancialScam</th>\n",
       "      <td>1.6</td>\n",
       "    </tr>\n",
       "    <tr>\n",
       "      <th>Public_Historical_Data</th>\n",
       "      <th>FinancialScam</th>\n",
       "      <td>0.7</td>\n",
       "    </tr>\n",
       "    <tr>\n",
       "      <th>Random_Data</th>\n",
       "      <th>FinancialScam</th>\n",
       "      <td>0.1</td>\n",
       "    </tr>\n",
       "    <tr>\n",
       "      <th>Public_Historical_Data</th>\n",
       "      <th>Exploit</th>\n",
       "      <td>8.2</td>\n",
       "    </tr>\n",
       "    <tr>\n",
       "      <th>Monitoring_and_Feedback</th>\n",
       "      <th>Exploit</th>\n",
       "      <td>0.4</td>\n",
       "    </tr>\n",
       "    <tr>\n",
       "      <th>Manual_Validation</th>\n",
       "      <th>Exploit</th>\n",
       "      <td>0.3</td>\n",
       "    </tr>\n",
       "    <tr>\n",
       "      <th>Random_Data</th>\n",
       "      <th>Exploit</th>\n",
       "      <td>0.0</td>\n",
       "    </tr>\n",
       "    <tr>\n",
       "      <th>White_Lists</th>\n",
       "      <th>Clean</th>\n",
       "      <td>60.2</td>\n",
       "    </tr>\n",
       "    <tr>\n",
       "      <th>Manual_Validation</th>\n",
       "      <th>Clean</th>\n",
       "      <td>15.6</td>\n",
       "    </tr>\n",
       "    <tr>\n",
       "      <th>Random_Data</th>\n",
       "      <th>Clean</th>\n",
       "      <td>9.3</td>\n",
       "    </tr>\n",
       "    <tr>\n",
       "      <th>Monitoring_and_Feedback</th>\n",
       "      <th>Clean</th>\n",
       "      <td>0.9</td>\n",
       "    </tr>\n",
       "    <tr>\n",
       "      <th>Public_Historical_Data</th>\n",
       "      <th>Clean</th>\n",
       "      <td>0.1</td>\n",
       "    </tr>\n",
       "  </tbody>\n",
       "</table>\n",
       "</div>"
      ]
     },
     "execution_count": 22,
     "metadata": {},
     "output_type": "execute_result"
    }
   ],
   "execution_count": 22
  },
  {
   "metadata": {
    "ExecuteTime": {
     "end_time": "2024-10-13T18:24:46.253115Z",
     "start_time": "2024-10-13T18:24:46.246880Z"
    }
   },
   "cell_type": "code",
   "source": [
    "# proportion of labels by each data source\n",
    "(df[[\"data_source\", \"label\"]].value_counts()*100/df[\"data_source\"].value_counts()).to_frame().sort_values(by=[\"data_source\", \"count\"], ascending=False).transform({\"count\": lambda x: round(x, 1)})"
   ],
   "id": "d222bd27f4188ea2",
   "outputs": [
    {
     "data": {
      "text/plain": [
       "                                       count\n",
       "data_source             label               \n",
       "White_Lists             Clean          100.0\n",
       "Random_Data             Clean           99.2\n",
       "                        FinancialScam    0.5\n",
       "                        Exploit          0.3\n",
       "Public_Historical_Data  Exploit         90.9\n",
       "                        FinancialScam    8.2\n",
       "                        Clean            0.9\n",
       "Monitoring_and_Feedback FinancialScam   54.8\n",
       "                        Clean           30.4\n",
       "                        Exploit         14.8\n",
       "Manual_Validation       Clean           83.9\n",
       "                        FinancialScam   14.6\n",
       "                        Exploit          1.5"
      ],
      "text/html": [
       "<div>\n",
       "<style scoped>\n",
       "    .dataframe tbody tr th:only-of-type {\n",
       "        vertical-align: middle;\n",
       "    }\n",
       "\n",
       "    .dataframe tbody tr th {\n",
       "        vertical-align: top;\n",
       "    }\n",
       "\n",
       "    .dataframe thead th {\n",
       "        text-align: right;\n",
       "    }\n",
       "</style>\n",
       "<table border=\"1\" class=\"dataframe\">\n",
       "  <thead>\n",
       "    <tr style=\"text-align: right;\">\n",
       "      <th></th>\n",
       "      <th></th>\n",
       "      <th>count</th>\n",
       "    </tr>\n",
       "    <tr>\n",
       "      <th>data_source</th>\n",
       "      <th>label</th>\n",
       "      <th></th>\n",
       "    </tr>\n",
       "  </thead>\n",
       "  <tbody>\n",
       "    <tr>\n",
       "      <th>White_Lists</th>\n",
       "      <th>Clean</th>\n",
       "      <td>100.0</td>\n",
       "    </tr>\n",
       "    <tr>\n",
       "      <th rowspan=\"3\" valign=\"top\">Random_Data</th>\n",
       "      <th>Clean</th>\n",
       "      <td>99.2</td>\n",
       "    </tr>\n",
       "    <tr>\n",
       "      <th>FinancialScam</th>\n",
       "      <td>0.5</td>\n",
       "    </tr>\n",
       "    <tr>\n",
       "      <th>Exploit</th>\n",
       "      <td>0.3</td>\n",
       "    </tr>\n",
       "    <tr>\n",
       "      <th rowspan=\"3\" valign=\"top\">Public_Historical_Data</th>\n",
       "      <th>Exploit</th>\n",
       "      <td>90.9</td>\n",
       "    </tr>\n",
       "    <tr>\n",
       "      <th>FinancialScam</th>\n",
       "      <td>8.2</td>\n",
       "    </tr>\n",
       "    <tr>\n",
       "      <th>Clean</th>\n",
       "      <td>0.9</td>\n",
       "    </tr>\n",
       "    <tr>\n",
       "      <th rowspan=\"3\" valign=\"top\">Monitoring_and_Feedback</th>\n",
       "      <th>FinancialScam</th>\n",
       "      <td>54.8</td>\n",
       "    </tr>\n",
       "    <tr>\n",
       "      <th>Clean</th>\n",
       "      <td>30.4</td>\n",
       "    </tr>\n",
       "    <tr>\n",
       "      <th>Exploit</th>\n",
       "      <td>14.8</td>\n",
       "    </tr>\n",
       "    <tr>\n",
       "      <th rowspan=\"3\" valign=\"top\">Manual_Validation</th>\n",
       "      <th>Clean</th>\n",
       "      <td>83.9</td>\n",
       "    </tr>\n",
       "    <tr>\n",
       "      <th>FinancialScam</th>\n",
       "      <td>14.6</td>\n",
       "    </tr>\n",
       "    <tr>\n",
       "      <th>Exploit</th>\n",
       "      <td>1.5</td>\n",
       "    </tr>\n",
       "  </tbody>\n",
       "</table>\n",
       "</div>"
      ]
     },
     "execution_count": 23,
     "metadata": {},
     "output_type": "execute_result"
    }
   ],
   "execution_count": 23
  },
  {
   "metadata": {
    "ExecuteTime": {
     "end_time": "2024-10-13T18:24:46.260141Z",
     "start_time": "2024-10-13T18:24:46.253607Z"
    }
   },
   "cell_type": "code",
   "source": [
    "# chain id and data source proportion by label\n",
    "(df[[\"chain_id\", \"label\"]].value_counts()*100/df[\"label\"].value_counts()).to_frame().sort_values(by=[\"label\", \"count\"], ascending=False).transform({\"count\": lambda x: round(x, 1)})"
   ],
   "id": "99570030af7ea089",
   "outputs": [
    {
     "data": {
      "text/plain": [
       "                        count\n",
       "chain_id label               \n",
       "56       FinancialScam   49.0\n",
       "1        FinancialScam   19.5\n",
       "137      FinancialScam   16.0\n",
       "42161    FinancialScam    8.5\n",
       "10       FinancialScam    3.0\n",
       "43114    FinancialScam    2.5\n",
       "99999    FinancialScam    1.5\n",
       "56       Exploit         44.4\n",
       "1        Exploit         32.4\n",
       "137      Exploit         10.9\n",
       "42161    Exploit          6.9\n",
       "43114    Exploit          4.6\n",
       "99999    Exploit          0.9\n",
       "1        Clean           61.7\n",
       "42161    Clean           12.7\n",
       "137      Clean           10.1\n",
       "56       Clean            8.2\n",
       "43114    Clean            5.1\n",
       "10       Clean            1.2\n",
       "99999    Clean            1.0"
      ],
      "text/html": [
       "<div>\n",
       "<style scoped>\n",
       "    .dataframe tbody tr th:only-of-type {\n",
       "        vertical-align: middle;\n",
       "    }\n",
       "\n",
       "    .dataframe tbody tr th {\n",
       "        vertical-align: top;\n",
       "    }\n",
       "\n",
       "    .dataframe thead th {\n",
       "        text-align: right;\n",
       "    }\n",
       "</style>\n",
       "<table border=\"1\" class=\"dataframe\">\n",
       "  <thead>\n",
       "    <tr style=\"text-align: right;\">\n",
       "      <th></th>\n",
       "      <th></th>\n",
       "      <th>count</th>\n",
       "    </tr>\n",
       "    <tr>\n",
       "      <th>chain_id</th>\n",
       "      <th>label</th>\n",
       "      <th></th>\n",
       "    </tr>\n",
       "  </thead>\n",
       "  <tbody>\n",
       "    <tr>\n",
       "      <th>56</th>\n",
       "      <th>FinancialScam</th>\n",
       "      <td>49.0</td>\n",
       "    </tr>\n",
       "    <tr>\n",
       "      <th>1</th>\n",
       "      <th>FinancialScam</th>\n",
       "      <td>19.5</td>\n",
       "    </tr>\n",
       "    <tr>\n",
       "      <th>137</th>\n",
       "      <th>FinancialScam</th>\n",
       "      <td>16.0</td>\n",
       "    </tr>\n",
       "    <tr>\n",
       "      <th>42161</th>\n",
       "      <th>FinancialScam</th>\n",
       "      <td>8.5</td>\n",
       "    </tr>\n",
       "    <tr>\n",
       "      <th>10</th>\n",
       "      <th>FinancialScam</th>\n",
       "      <td>3.0</td>\n",
       "    </tr>\n",
       "    <tr>\n",
       "      <th>43114</th>\n",
       "      <th>FinancialScam</th>\n",
       "      <td>2.5</td>\n",
       "    </tr>\n",
       "    <tr>\n",
       "      <th>99999</th>\n",
       "      <th>FinancialScam</th>\n",
       "      <td>1.5</td>\n",
       "    </tr>\n",
       "    <tr>\n",
       "      <th>56</th>\n",
       "      <th>Exploit</th>\n",
       "      <td>44.4</td>\n",
       "    </tr>\n",
       "    <tr>\n",
       "      <th>1</th>\n",
       "      <th>Exploit</th>\n",
       "      <td>32.4</td>\n",
       "    </tr>\n",
       "    <tr>\n",
       "      <th>137</th>\n",
       "      <th>Exploit</th>\n",
       "      <td>10.9</td>\n",
       "    </tr>\n",
       "    <tr>\n",
       "      <th>42161</th>\n",
       "      <th>Exploit</th>\n",
       "      <td>6.9</td>\n",
       "    </tr>\n",
       "    <tr>\n",
       "      <th>43114</th>\n",
       "      <th>Exploit</th>\n",
       "      <td>4.6</td>\n",
       "    </tr>\n",
       "    <tr>\n",
       "      <th>99999</th>\n",
       "      <th>Exploit</th>\n",
       "      <td>0.9</td>\n",
       "    </tr>\n",
       "    <tr>\n",
       "      <th>1</th>\n",
       "      <th>Clean</th>\n",
       "      <td>61.7</td>\n",
       "    </tr>\n",
       "    <tr>\n",
       "      <th>42161</th>\n",
       "      <th>Clean</th>\n",
       "      <td>12.7</td>\n",
       "    </tr>\n",
       "    <tr>\n",
       "      <th>137</th>\n",
       "      <th>Clean</th>\n",
       "      <td>10.1</td>\n",
       "    </tr>\n",
       "    <tr>\n",
       "      <th>56</th>\n",
       "      <th>Clean</th>\n",
       "      <td>8.2</td>\n",
       "    </tr>\n",
       "    <tr>\n",
       "      <th>43114</th>\n",
       "      <th>Clean</th>\n",
       "      <td>5.1</td>\n",
       "    </tr>\n",
       "    <tr>\n",
       "      <th>10</th>\n",
       "      <th>Clean</th>\n",
       "      <td>1.2</td>\n",
       "    </tr>\n",
       "    <tr>\n",
       "      <th>99999</th>\n",
       "      <th>Clean</th>\n",
       "      <td>1.0</td>\n",
       "    </tr>\n",
       "  </tbody>\n",
       "</table>\n",
       "</div>"
      ]
     },
     "execution_count": 24,
     "metadata": {},
     "output_type": "execute_result"
    }
   ],
   "execution_count": 24
  },
  {
   "metadata": {
    "ExecuteTime": {
     "end_time": "2024-10-13T18:24:46.267027Z",
     "start_time": "2024-10-13T18:24:46.260673Z"
    }
   },
   "cell_type": "code",
   "source": [
    "# chain id and data source proportion by label\n",
    "(df[[\"data_source\", \"label\"]].value_counts()*100/df[\"label\"].value_counts()).to_frame().sort_values(by=[\"label\", \"count\"], ascending=False).transform({\"count\": lambda x: round(x, 1)})"
   ],
   "id": "fbfc0a2654747842",
   "outputs": [
    {
     "data": {
      "text/plain": [
       "                                       count\n",
       "data_source             label               \n",
       "Manual_Validation       FinancialScam   53.0\n",
       "Monitoring_and_Feedback FinancialScam   31.5\n",
       "Public_Historical_Data  FinancialScam   14.5\n",
       "Random_Data             FinancialScam    1.0\n",
       "Public_Historical_Data  Exploit         91.7\n",
       "Monitoring_and_Feedback Exploit          4.9\n",
       "Manual_Validation       Exploit          3.2\n",
       "Random_Data             Exploit          0.3\n",
       "White_Lists             Clean           70.0\n",
       "Manual_Validation       Clean           18.1\n",
       "Random_Data             Clean           10.8\n",
       "Monitoring_and_Feedback Clean            1.0\n",
       "Public_Historical_Data  Clean            0.1"
      ],
      "text/html": [
       "<div>\n",
       "<style scoped>\n",
       "    .dataframe tbody tr th:only-of-type {\n",
       "        vertical-align: middle;\n",
       "    }\n",
       "\n",
       "    .dataframe tbody tr th {\n",
       "        vertical-align: top;\n",
       "    }\n",
       "\n",
       "    .dataframe thead th {\n",
       "        text-align: right;\n",
       "    }\n",
       "</style>\n",
       "<table border=\"1\" class=\"dataframe\">\n",
       "  <thead>\n",
       "    <tr style=\"text-align: right;\">\n",
       "      <th></th>\n",
       "      <th></th>\n",
       "      <th>count</th>\n",
       "    </tr>\n",
       "    <tr>\n",
       "      <th>data_source</th>\n",
       "      <th>label</th>\n",
       "      <th></th>\n",
       "    </tr>\n",
       "  </thead>\n",
       "  <tbody>\n",
       "    <tr>\n",
       "      <th>Manual_Validation</th>\n",
       "      <th>FinancialScam</th>\n",
       "      <td>53.0</td>\n",
       "    </tr>\n",
       "    <tr>\n",
       "      <th>Monitoring_and_Feedback</th>\n",
       "      <th>FinancialScam</th>\n",
       "      <td>31.5</td>\n",
       "    </tr>\n",
       "    <tr>\n",
       "      <th>Public_Historical_Data</th>\n",
       "      <th>FinancialScam</th>\n",
       "      <td>14.5</td>\n",
       "    </tr>\n",
       "    <tr>\n",
       "      <th>Random_Data</th>\n",
       "      <th>FinancialScam</th>\n",
       "      <td>1.0</td>\n",
       "    </tr>\n",
       "    <tr>\n",
       "      <th>Public_Historical_Data</th>\n",
       "      <th>Exploit</th>\n",
       "      <td>91.7</td>\n",
       "    </tr>\n",
       "    <tr>\n",
       "      <th>Monitoring_and_Feedback</th>\n",
       "      <th>Exploit</th>\n",
       "      <td>4.9</td>\n",
       "    </tr>\n",
       "    <tr>\n",
       "      <th>Manual_Validation</th>\n",
       "      <th>Exploit</th>\n",
       "      <td>3.2</td>\n",
       "    </tr>\n",
       "    <tr>\n",
       "      <th>Random_Data</th>\n",
       "      <th>Exploit</th>\n",
       "      <td>0.3</td>\n",
       "    </tr>\n",
       "    <tr>\n",
       "      <th>White_Lists</th>\n",
       "      <th>Clean</th>\n",
       "      <td>70.0</td>\n",
       "    </tr>\n",
       "    <tr>\n",
       "      <th>Manual_Validation</th>\n",
       "      <th>Clean</th>\n",
       "      <td>18.1</td>\n",
       "    </tr>\n",
       "    <tr>\n",
       "      <th>Random_Data</th>\n",
       "      <th>Clean</th>\n",
       "      <td>10.8</td>\n",
       "    </tr>\n",
       "    <tr>\n",
       "      <th>Monitoring_and_Feedback</th>\n",
       "      <th>Clean</th>\n",
       "      <td>1.0</td>\n",
       "    </tr>\n",
       "    <tr>\n",
       "      <th>Public_Historical_Data</th>\n",
       "      <th>Clean</th>\n",
       "      <td>0.1</td>\n",
       "    </tr>\n",
       "  </tbody>\n",
       "</table>\n",
       "</div>"
      ]
     },
     "execution_count": 25,
     "metadata": {},
     "output_type": "execute_result"
    }
   ],
   "execution_count": 25
  },
  {
   "metadata": {},
   "cell_type": "markdown",
   "source": "## Bytecode",
   "id": "b1686ca13735d6ea"
  },
  {
   "metadata": {},
   "cell_type": "markdown",
   "source": "",
   "id": "29153f07fd9bd930"
  },
  {
   "metadata": {
    "ExecuteTime": {
     "end_time": "2024-10-13T18:24:46.284791Z",
     "start_time": "2024-10-13T18:24:46.267545Z"
    }
   },
   "cell_type": "code",
   "source": "df[\"bytecode\"].value_counts().rename(\"bytecode_count\").value_counts()",
   "id": "e160a7d13e2d589b",
   "outputs": [
    {
     "data": {
      "text/plain": [
       "bytecode_count\n",
       "1     3880\n",
       "2       11\n",
       "20       1\n",
       "Name: count, dtype: int64"
      ]
     },
     "execution_count": 26,
     "metadata": {},
     "output_type": "execute_result"
    }
   ],
   "execution_count": 26
  },
  {
   "metadata": {
    "ExecuteTime": {
     "end_time": "2024-10-13T18:24:46.288825Z",
     "start_time": "2024-10-13T18:24:46.285470Z"
    }
   },
   "cell_type": "code",
   "source": "df[\"bytecode\"].value_counts()[:1]",
   "id": "e96a7549d0192f01",
   "outputs": [
    {
     "data": {
      "text/plain": [
       "bytecode\n",
       "0x    20\n",
       "Name: count, dtype: int64"
      ]
     },
     "execution_count": 27,
     "metadata": {},
     "output_type": "execute_result"
    }
   ],
   "execution_count": 27
  },
  {
   "metadata": {
    "ExecuteTime": {
     "end_time": "2024-10-13T18:24:46.292540Z",
     "start_time": "2024-10-13T18:24:46.289442Z"
    }
   },
   "cell_type": "code",
   "source": "df[df[\"bytecode\"] == \"0x\"][\"opcode\"].nunique()",
   "id": "bf7554fc906cef0b",
   "outputs": [
    {
     "data": {
      "text/plain": [
       "20"
      ]
     },
     "execution_count": 28,
     "metadata": {},
     "output_type": "execute_result"
    }
   ],
   "execution_count": 28
  },
  {
   "metadata": {
    "ExecuteTime": {
     "end_time": "2024-10-13T18:24:46.325682Z",
     "start_time": "2024-10-13T18:24:46.294101Z"
    }
   },
   "cell_type": "code",
   "source": "df[\"opcode\"].value_counts().value_counts()",
   "id": "e7ca11a346ea14cb",
   "outputs": [
    {
     "data": {
      "text/plain": [
       "count\n",
       "1    3904\n",
       "2       9\n",
       "Name: count, dtype: int64"
      ]
     },
     "execution_count": 29,
     "metadata": {},
     "output_type": "execute_result"
    }
   ],
   "execution_count": 29
  },
  {
   "metadata": {},
   "cell_type": "markdown",
   "source": "# Opcode investigation",
   "id": "4f592b635a653d4c"
  },
  {
   "metadata": {
    "ExecuteTime": {
     "end_time": "2024-10-13T18:24:46.331669Z",
     "start_time": "2024-10-13T18:24:46.326528Z"
    }
   },
   "cell_type": "code",
   "source": [
    "df_small_opcode = df.transform({\"opcode\": lambda x: x if 1500 < len(x)<2000 else None, \"label\": lambda x: x}).dropna()\n",
    "df_small_opcode[df_small_opcode[\"label\"]==\"FinancialScam\"]"
   ],
   "id": "f8c742d6dd431262",
   "outputs": [
    {
     "data": {
      "text/plain": [
       "                                                 opcode          label\n",
       "1160  PUSH1 PUSH1 MSTORE CALLVALUE DUP1 ISZERO PUSH2...  FinancialScam"
      ],
      "text/html": [
       "<div>\n",
       "<style scoped>\n",
       "    .dataframe tbody tr th:only-of-type {\n",
       "        vertical-align: middle;\n",
       "    }\n",
       "\n",
       "    .dataframe tbody tr th {\n",
       "        vertical-align: top;\n",
       "    }\n",
       "\n",
       "    .dataframe thead th {\n",
       "        text-align: right;\n",
       "    }\n",
       "</style>\n",
       "<table border=\"1\" class=\"dataframe\">\n",
       "  <thead>\n",
       "    <tr style=\"text-align: right;\">\n",
       "      <th></th>\n",
       "      <th>opcode</th>\n",
       "      <th>label</th>\n",
       "    </tr>\n",
       "  </thead>\n",
       "  <tbody>\n",
       "    <tr>\n",
       "      <th>1160</th>\n",
       "      <td>PUSH1 PUSH1 MSTORE CALLVALUE DUP1 ISZERO PUSH2...</td>\n",
       "      <td>FinancialScam</td>\n",
       "    </tr>\n",
       "  </tbody>\n",
       "</table>\n",
       "</div>"
      ]
     },
     "execution_count": 30,
     "metadata": {},
     "output_type": "execute_result"
    }
   ],
   "execution_count": 30
  },
  {
   "metadata": {},
   "cell_type": "markdown",
   "source": "PUSH1 PUSH1 MSTORE CALLVALUE DUP1 ISZERO PUSH2 JUMPI PUSH1 DUP1 REVERT JUMPDEST POP PUSH1 CALLDATASIZE LT PUSH2 JUMPI PUSH1 CALLDATALOAD PUSH1 SHR DUP1 PUSH4 0dbe671f EQ PUSH2 JUMPI JUMPDEST PUSH1 DUP1 REVERT JUMPDEST PUSH2 PUSH2 JUMP JUMPDEST STOP JUMPDEST PUSH1 MLOAD PUSH32 1249c58b00000000000000000000000000000000000000000000000000000000 DUP2 MSTORE PUSH20 eddb551809af5f6fe388288749cc89cb1bc5c495 SWAP1 DUP2 SWAP1 PUSH1 ADD PUSH1 PUSH1 MLOAD DUP1 DUP4 SUB DUP2 PUSH1 DUP7 GAS CALL SWAP2 POP POP RETURNDATASIZE DUP1 PUSH1 DUP2 EQ PUSH2 JUMPI PUSH1 MLOAD SWAP2 POP PUSH1 NOT PUSH1 RETURNDATASIZE ADD AND DUP3 ADD PUSH1 MSTORE RETURNDATASIZE DUP3 MSTORE RETURNDATASIZE PUSH1 PUSH1 DUP5 ADD RETURNDATACOPY PUSH2 JUMP JUMPDEST PUSH1 SWAP2 POP JUMPDEST POP POP PUSH1 MLOAD PUSH32 70a0823100000000000000000000000000000000000000000000000000000000 DUP2 MSTORE ADDRESS PUSH1 DUP3 ADD MSTORE PUSH20 ffffffffffffffffffffffffffffffffffffffff DUP4 AND SWAP2 POP PUSH4 a9059cbb SWAP1 CALLER SWAP1 DUP4 SWAP1 PUSH4 70a08231 SWAP1 PUSH1 ADD PUSH1 PUSH1 MLOAD DUP1 DUP4 SUB DUP2 DUP7 GAS STATICCALL ISZERO DUP1 ISZERO PUSH2 JUMPI RETURNDATASIZE PUSH1 DUP1 RETURNDATACOPY RETURNDATASIZE PUSH1 REVERT JUMPDEST POP POP POP POP PUSH1 MLOAD RETURNDATASIZE PUSH1 NOT PUSH1 DUP3 ADD AND DUP3 ADD DUP1 PUSH1 MSTORE POP DUP2 ADD SWAP1 PUSH2 SWAP2 SWAP1 PUSH2 JUMP JUMPDEST PUSH1 MLOAD PUSH32 ffffffff00000000000000000000000000000000000000000000000000000000 PUSH1 DUP6 SWAP1 SHL AND DUP2 MSTORE PUSH20 ffffffffffffffffffffffffffffffffffffffff SWAP1 SWAP3 AND PUSH1 DUP4 ADD MSTORE PUSH1 DUP3 ADD MSTORE PUSH1 ADD PUSH1 PUSH1 MLOAD DUP1 DUP4 SUB DUP2 PUSH1 DUP8 DUP1 EXTCODESIZE ISZERO DUP1 ISZERO PUSH2 JUMPI PUSH1 DUP1 REVERT JUMPDEST POP GAS CALL ISZERO DUP1 ISZERO PUSH2 JUMPI RETURNDATASIZE PUSH1 DUP1 RETURNDATACOPY RETURNDATASIZE PUSH1 REVERT JUMPDEST POP CALLER SWAP3 POP POP POP SELFDESTRUCT JUMPDEST PUSH1 PUSH1 DUP3 DUP5 SUB SLT ISZERO PUSH2 JUMPI PUSH1 DUP1 REVERT JUMPDEST POP MLOAD SWAP2 SWAP1 POP JUMP",
   "id": "f340151ded341d30"
  },
  {
   "metadata": {
    "ExecuteTime": {
     "end_time": "2024-10-13T18:24:46.335764Z",
     "start_time": "2024-10-13T18:24:46.332153Z"
    }
   },
   "cell_type": "code",
   "source": "df_small_opcode[df_small_opcode[\"label\"]==\"Exploit\"][:1]",
   "id": "e76eace2a308c277",
   "outputs": [
    {
     "data": {
      "text/plain": [
       "                                                 opcode    label\n",
       "3887  PUSH1 PUSH1 MSTORE CALLVALUE DUP1 ISZERO PUSH2...  Exploit"
      ],
      "text/html": [
       "<div>\n",
       "<style scoped>\n",
       "    .dataframe tbody tr th:only-of-type {\n",
       "        vertical-align: middle;\n",
       "    }\n",
       "\n",
       "    .dataframe tbody tr th {\n",
       "        vertical-align: top;\n",
       "    }\n",
       "\n",
       "    .dataframe thead th {\n",
       "        text-align: right;\n",
       "    }\n",
       "</style>\n",
       "<table border=\"1\" class=\"dataframe\">\n",
       "  <thead>\n",
       "    <tr style=\"text-align: right;\">\n",
       "      <th></th>\n",
       "      <th>opcode</th>\n",
       "      <th>label</th>\n",
       "    </tr>\n",
       "  </thead>\n",
       "  <tbody>\n",
       "    <tr>\n",
       "      <th>3887</th>\n",
       "      <td>PUSH1 PUSH1 MSTORE CALLVALUE DUP1 ISZERO PUSH2...</td>\n",
       "      <td>Exploit</td>\n",
       "    </tr>\n",
       "  </tbody>\n",
       "</table>\n",
       "</div>"
      ]
     },
     "execution_count": 31,
     "metadata": {},
     "output_type": "execute_result"
    }
   ],
   "execution_count": 31
  },
  {
   "metadata": {},
   "cell_type": "markdown",
   "source": "PUSH1 PUSH1 MSTORE CALLVALUE DUP1 ISZERO PUSH2 JUMPI PUSH1 DUP1 REVERT JUMPDEST POP PUSH1 CALLDATASIZE LT PUSH2 JUMPI PUSH1 CALLDATALOAD PUSH1 SHR DUP1 PUSH4 1036bbe2 EQ PUSH2 JUMPI DUP1 PUSH4 1ee7f3c4 EQ PUSH2 JUMPI DUP1 PUSH4 990a4a2c EQ PUSH2 JUMPI JUMPDEST PUSH1 DUP1 REVERT JUMPDEST PUSH2 PUSH8 030d98d59a960000 DUP2 JUMP JUMPDEST PUSH1 MLOAD SWAP1 DUP2 MSTORE PUSH1 ADD PUSH1 MLOAD DUP1 SWAP2 SUB SWAP1 RETURN JUMPDEST PUSH2 PUSH2 CALLDATASIZE PUSH1 PUSH2 JUMP JUMPDEST PUSH2 JUMP JUMPDEST PUSH2 PUSH7 470de4df820000 DUP2 JUMP JUMPDEST PUSH1 DUP3 ISZERO PUSH2 JUMPI DUP2 DUP4 PUSH2 PUSH7 470de4df820000 PUSH8 030d98d59a960000 PUSH2 JUMP JUMPDEST PUSH2 SWAP2 SWAP1 PUSH2 JUMP JUMPDEST PUSH2 SWAP2 SWAP1 PUSH2 JUMP JUMPDEST PUSH2 SWAP1 PUSH7 470de4df820000 PUSH2 JUMP JUMPDEST PUSH2 JUMP JUMPDEST PUSH1 JUMPDEST SWAP4 SWAP3 POP POP POP JUMP JUMPDEST PUSH1 DUP1 PUSH1 DUP4 DUP6 SUB SLT ISZERO PUSH2 JUMPI PUSH1 DUP1 REVERT JUMPDEST POP POP DUP1 CALLDATALOAD SWAP3 PUSH1 SWAP1 SWAP2 ADD CALLDATALOAD SWAP2 POP JUMP JUMPDEST PUSH32 4e487b7100000000000000000000000000000000000000000000000000000000 PUSH1 MSTORE PUSH1 PUSH1 MSTORE PUSH1 PUSH1 REVERT JUMPDEST PUSH1 DUP3 DUP3 LT ISZERO PUSH2 JUMPI PUSH2 PUSH2 JUMP JUMPDEST POP SUB SWAP1 JUMP JUMPDEST PUSH1 DUP2 PUSH32 ffffffffffffffffffffffffffffffffffffffffffffffffffffffffffffffff DIV DUP4 GT DUP3 ISZERO ISZERO AND ISZERO PUSH2 JUMPI PUSH2 PUSH2 JUMP JUMPDEST POP MUL SWAP1 JUMP JUMPDEST PUSH1 DUP3 PUSH2 JUMPI PUSH32 4e487b7100000000000000000000000000000000000000000000000000000000 PUSH1 MSTORE PUSH1 PUSH1 MSTORE PUSH1 PUSH1 REVERT JUMPDEST POP DIV SWAP1 JUMP JUMPDEST PUSH1 DUP3 NOT DUP3 GT ISZERO PUSH2 JUMPI PUSH2 PUSH2 JUMP JUMPDEST POP ADD SWAP1 JUMP",
   "id": "982c37e43bf1ab9"
  },
  {
   "metadata": {
    "ExecuteTime": {
     "end_time": "2024-10-13T18:24:46.340433Z",
     "start_time": "2024-10-13T18:24:46.336432Z"
    }
   },
   "cell_type": "code",
   "source": "df_small_opcode[df_small_opcode[\"label\"]==\"Clean\"]",
   "id": "c8e5561b7420ae2f",
   "outputs": [
    {
     "data": {
      "text/plain": [
       "                                                 opcode  label\n",
       "354   PUSH1 PUSH1 MSTORE CALLVALUE DUP1 ISZERO PUSH2...  Clean\n",
       "407   PUSH1 PUSH1 MSTORE CALLVALUE DUP1 ISZERO PUSH2...  Clean\n",
       "427   PUSH1 PUSH1 MSTORE CALLVALUE DUP1 ISZERO PUSH2...  Clean\n",
       "486   PUSH1 CALLDATASIZE GT PUSH2 JUMPI PUSH2 JUMP J...  Clean\n",
       "649   PUSH1 PUSH1 MSTORE CALLDATASIZE PUSH2 JUMPI PU...  Clean\n",
       "796   PUSH1 PUSH1 MSTORE PUSH1 CALLDATASIZE LT PUSH2...  Clean\n",
       "1076  PUSH1 PUSH1 MSTORE CALLVALUE DUP1 ISZERO PUSH2...  Clean\n",
       "1123  PUSH1 PUSH1 MSTORE CALLVALUE DUP1 ISZERO PUSH2...  Clean\n",
       "1258  PUSH1 CALLDATASIZE LT ISZERO PUSH2 JUMPI PUSH2...  Clean\n",
       "1397  PUSH1 PUSH1 MSTORE PUSH1 CALLDATASIZE LT PUSH2...  Clean\n",
       "1537  PUSH1 PUSH1 MSTORE CALLDATASIZE PUSH2 JUMPI PU...  Clean\n",
       "1897  PUSH1 PUSH1 MSTORE CALLVALUE DUP1 ISZERO PUSH2...  Clean\n",
       "1941  PUSH1 PUSH1 MSTORE CALLDATASIZE PUSH2 JUMPI PU...  Clean\n",
       "1957  PUSH1 PUSH1 MSTORE CALLVALUE DUP1 ISZERO PUSH2...  Clean\n",
       "2011  PUSH1 PUSH1 MSTORE CALLVALUE DUP1 ISZERO PUSH2...  Clean\n",
       "2042  PUSH1 PUSH1 MSTORE CALLVALUE DUP1 ISZERO PUSH2...  Clean\n",
       "2073  PUSH1 PUSH1 MSTORE CALLVALUE DUP1 ISZERO PUSH2...  Clean\n",
       "2130  PUSH1 PUSH1 MSTORE CALLDATASIZE PUSH2 JUMPI PU...  Clean\n",
       "2154  PUSH1 PUSH1 MSTORE CALLVALUE DUP1 ISZERO PUSH2...  Clean\n",
       "2162  PUSH1 PUSH1 MSTORE CALLDATASIZE PUSH2 JUMPI PU...  Clean\n",
       "2226  PUSH1 PUSH1 MSTORE CALLVALUE DUP1 ISZERO PUSH2...  Clean\n",
       "2459  PUSH1 PUSH1 MSTORE CALLDATASIZE PUSH2 JUMPI PU...  Clean\n",
       "2470  PUSH1 PUSH1 MSTORE CALLVALUE DUP1 ISZERO PUSH2...  Clean\n",
       "2598  PUSH1 PUSH1 MSTORE CALLVALUE DUP1 ISZERO PUSH2...  Clean\n",
       "2827  PUSH1 PUSH1 MSTORE PUSH1 CALLDATASIZE LT ISZER...  Clean\n",
       "2875  PUSH1 PUSH1 MSTORE CALLVALUE DUP1 ISZERO PUSH2...  Clean\n",
       "3020  PUSH1 PUSH1 MSTORE PUSH1 CALLDATASIZE LT PUSH2...  Clean\n",
       "3238  PUSH1 PUSH1 MSTORE CALLVALUE DUP1 ISZERO PUSH2...  Clean\n",
       "3293  PUSH1 PUSH1 MSTORE CALLDATASIZE PUSH2 JUMPI PU...  Clean\n",
       "3355  PUSH1 PUSH1 MSTORE PUSH1 CALLDATASIZE LT PUSH2...  Clean\n",
       "3536  PUSH1 PUSH1 MSTORE CALLDATASIZE PUSH2 JUMPI PU...  Clean\n",
       "3649  PUSH1 PUSH1 MSTORE CALLVALUE DUP1 ISZERO PUSH2...  Clean"
      ],
      "text/html": [
       "<div>\n",
       "<style scoped>\n",
       "    .dataframe tbody tr th:only-of-type {\n",
       "        vertical-align: middle;\n",
       "    }\n",
       "\n",
       "    .dataframe tbody tr th {\n",
       "        vertical-align: top;\n",
       "    }\n",
       "\n",
       "    .dataframe thead th {\n",
       "        text-align: right;\n",
       "    }\n",
       "</style>\n",
       "<table border=\"1\" class=\"dataframe\">\n",
       "  <thead>\n",
       "    <tr style=\"text-align: right;\">\n",
       "      <th></th>\n",
       "      <th>opcode</th>\n",
       "      <th>label</th>\n",
       "    </tr>\n",
       "  </thead>\n",
       "  <tbody>\n",
       "    <tr>\n",
       "      <th>354</th>\n",
       "      <td>PUSH1 PUSH1 MSTORE CALLVALUE DUP1 ISZERO PUSH2...</td>\n",
       "      <td>Clean</td>\n",
       "    </tr>\n",
       "    <tr>\n",
       "      <th>407</th>\n",
       "      <td>PUSH1 PUSH1 MSTORE CALLVALUE DUP1 ISZERO PUSH2...</td>\n",
       "      <td>Clean</td>\n",
       "    </tr>\n",
       "    <tr>\n",
       "      <th>427</th>\n",
       "      <td>PUSH1 PUSH1 MSTORE CALLVALUE DUP1 ISZERO PUSH2...</td>\n",
       "      <td>Clean</td>\n",
       "    </tr>\n",
       "    <tr>\n",
       "      <th>486</th>\n",
       "      <td>PUSH1 CALLDATASIZE GT PUSH2 JUMPI PUSH2 JUMP J...</td>\n",
       "      <td>Clean</td>\n",
       "    </tr>\n",
       "    <tr>\n",
       "      <th>649</th>\n",
       "      <td>PUSH1 PUSH1 MSTORE CALLDATASIZE PUSH2 JUMPI PU...</td>\n",
       "      <td>Clean</td>\n",
       "    </tr>\n",
       "    <tr>\n",
       "      <th>796</th>\n",
       "      <td>PUSH1 PUSH1 MSTORE PUSH1 CALLDATASIZE LT PUSH2...</td>\n",
       "      <td>Clean</td>\n",
       "    </tr>\n",
       "    <tr>\n",
       "      <th>1076</th>\n",
       "      <td>PUSH1 PUSH1 MSTORE CALLVALUE DUP1 ISZERO PUSH2...</td>\n",
       "      <td>Clean</td>\n",
       "    </tr>\n",
       "    <tr>\n",
       "      <th>1123</th>\n",
       "      <td>PUSH1 PUSH1 MSTORE CALLVALUE DUP1 ISZERO PUSH2...</td>\n",
       "      <td>Clean</td>\n",
       "    </tr>\n",
       "    <tr>\n",
       "      <th>1258</th>\n",
       "      <td>PUSH1 CALLDATASIZE LT ISZERO PUSH2 JUMPI PUSH2...</td>\n",
       "      <td>Clean</td>\n",
       "    </tr>\n",
       "    <tr>\n",
       "      <th>1397</th>\n",
       "      <td>PUSH1 PUSH1 MSTORE PUSH1 CALLDATASIZE LT PUSH2...</td>\n",
       "      <td>Clean</td>\n",
       "    </tr>\n",
       "    <tr>\n",
       "      <th>1537</th>\n",
       "      <td>PUSH1 PUSH1 MSTORE CALLDATASIZE PUSH2 JUMPI PU...</td>\n",
       "      <td>Clean</td>\n",
       "    </tr>\n",
       "    <tr>\n",
       "      <th>1897</th>\n",
       "      <td>PUSH1 PUSH1 MSTORE CALLVALUE DUP1 ISZERO PUSH2...</td>\n",
       "      <td>Clean</td>\n",
       "    </tr>\n",
       "    <tr>\n",
       "      <th>1941</th>\n",
       "      <td>PUSH1 PUSH1 MSTORE CALLDATASIZE PUSH2 JUMPI PU...</td>\n",
       "      <td>Clean</td>\n",
       "    </tr>\n",
       "    <tr>\n",
       "      <th>1957</th>\n",
       "      <td>PUSH1 PUSH1 MSTORE CALLVALUE DUP1 ISZERO PUSH2...</td>\n",
       "      <td>Clean</td>\n",
       "    </tr>\n",
       "    <tr>\n",
       "      <th>2011</th>\n",
       "      <td>PUSH1 PUSH1 MSTORE CALLVALUE DUP1 ISZERO PUSH2...</td>\n",
       "      <td>Clean</td>\n",
       "    </tr>\n",
       "    <tr>\n",
       "      <th>2042</th>\n",
       "      <td>PUSH1 PUSH1 MSTORE CALLVALUE DUP1 ISZERO PUSH2...</td>\n",
       "      <td>Clean</td>\n",
       "    </tr>\n",
       "    <tr>\n",
       "      <th>2073</th>\n",
       "      <td>PUSH1 PUSH1 MSTORE CALLVALUE DUP1 ISZERO PUSH2...</td>\n",
       "      <td>Clean</td>\n",
       "    </tr>\n",
       "    <tr>\n",
       "      <th>2130</th>\n",
       "      <td>PUSH1 PUSH1 MSTORE CALLDATASIZE PUSH2 JUMPI PU...</td>\n",
       "      <td>Clean</td>\n",
       "    </tr>\n",
       "    <tr>\n",
       "      <th>2154</th>\n",
       "      <td>PUSH1 PUSH1 MSTORE CALLVALUE DUP1 ISZERO PUSH2...</td>\n",
       "      <td>Clean</td>\n",
       "    </tr>\n",
       "    <tr>\n",
       "      <th>2162</th>\n",
       "      <td>PUSH1 PUSH1 MSTORE CALLDATASIZE PUSH2 JUMPI PU...</td>\n",
       "      <td>Clean</td>\n",
       "    </tr>\n",
       "    <tr>\n",
       "      <th>2226</th>\n",
       "      <td>PUSH1 PUSH1 MSTORE CALLVALUE DUP1 ISZERO PUSH2...</td>\n",
       "      <td>Clean</td>\n",
       "    </tr>\n",
       "    <tr>\n",
       "      <th>2459</th>\n",
       "      <td>PUSH1 PUSH1 MSTORE CALLDATASIZE PUSH2 JUMPI PU...</td>\n",
       "      <td>Clean</td>\n",
       "    </tr>\n",
       "    <tr>\n",
       "      <th>2470</th>\n",
       "      <td>PUSH1 PUSH1 MSTORE CALLVALUE DUP1 ISZERO PUSH2...</td>\n",
       "      <td>Clean</td>\n",
       "    </tr>\n",
       "    <tr>\n",
       "      <th>2598</th>\n",
       "      <td>PUSH1 PUSH1 MSTORE CALLVALUE DUP1 ISZERO PUSH2...</td>\n",
       "      <td>Clean</td>\n",
       "    </tr>\n",
       "    <tr>\n",
       "      <th>2827</th>\n",
       "      <td>PUSH1 PUSH1 MSTORE PUSH1 CALLDATASIZE LT ISZER...</td>\n",
       "      <td>Clean</td>\n",
       "    </tr>\n",
       "    <tr>\n",
       "      <th>2875</th>\n",
       "      <td>PUSH1 PUSH1 MSTORE CALLVALUE DUP1 ISZERO PUSH2...</td>\n",
       "      <td>Clean</td>\n",
       "    </tr>\n",
       "    <tr>\n",
       "      <th>3020</th>\n",
       "      <td>PUSH1 PUSH1 MSTORE PUSH1 CALLDATASIZE LT PUSH2...</td>\n",
       "      <td>Clean</td>\n",
       "    </tr>\n",
       "    <tr>\n",
       "      <th>3238</th>\n",
       "      <td>PUSH1 PUSH1 MSTORE CALLVALUE DUP1 ISZERO PUSH2...</td>\n",
       "      <td>Clean</td>\n",
       "    </tr>\n",
       "    <tr>\n",
       "      <th>3293</th>\n",
       "      <td>PUSH1 PUSH1 MSTORE CALLDATASIZE PUSH2 JUMPI PU...</td>\n",
       "      <td>Clean</td>\n",
       "    </tr>\n",
       "    <tr>\n",
       "      <th>3355</th>\n",
       "      <td>PUSH1 PUSH1 MSTORE PUSH1 CALLDATASIZE LT PUSH2...</td>\n",
       "      <td>Clean</td>\n",
       "    </tr>\n",
       "    <tr>\n",
       "      <th>3536</th>\n",
       "      <td>PUSH1 PUSH1 MSTORE CALLDATASIZE PUSH2 JUMPI PU...</td>\n",
       "      <td>Clean</td>\n",
       "    </tr>\n",
       "    <tr>\n",
       "      <th>3649</th>\n",
       "      <td>PUSH1 PUSH1 MSTORE CALLVALUE DUP1 ISZERO PUSH2...</td>\n",
       "      <td>Clean</td>\n",
       "    </tr>\n",
       "  </tbody>\n",
       "</table>\n",
       "</div>"
      ]
     },
     "execution_count": 32,
     "metadata": {},
     "output_type": "execute_result"
    }
   ],
   "execution_count": 32
  },
  {
   "metadata": {},
   "cell_type": "markdown",
   "source": "PUSH1 PUSH1 MSTORE CALLVALUE DUP1 ISZERO PUSH2 JUMPI PUSH1 DUP1 REVERT JUMPDEST POP PUSH1 CALLDATASIZE LT PUSH2 JUMPI PUSH1 CALLDATALOAD PUSH1 SHR DUP1 PUSH4 e42cb9f3 EQ PUSH2 JUMPI JUMPDEST PUSH1 DUP1 REVERT JUMPDEST PUSH2 PUSH2 JUMP JUMPDEST PUSH1 MLOAD PUSH2 SWAP2 SWAP1 PUSH2 JUMP JUMPDEST PUSH1 MLOAD DUP1 SWAP2 SUB SWAP1 RETURN JUMPDEST PUSH1 DUP1 SLOAD PUSH2 SWAP1 PUSH2 JUMP JUMPDEST DUP1 PUSH1 ADD PUSH1 DUP1 SWAP2 DIV MUL PUSH1 ADD PUSH1 MLOAD SWAP1 DUP2 ADD PUSH1 MSTORE DUP1 SWAP3 SWAP2 SWAP1 DUP2 DUP2 MSTORE PUSH1 ADD DUP3 DUP1 SLOAD PUSH2 SWAP1 PUSH2 JUMP JUMPDEST DUP1 ISZERO PUSH2 JUMPI DUP1 PUSH1 LT PUSH2 JUMPI PUSH2 DUP1 DUP4 SLOAD DIV MUL DUP4 MSTORE SWAP2 PUSH1 ADD SWAP2 PUSH2 JUMP JUMPDEST DUP3 ADD SWAP2 SWAP1 PUSH1 MSTORE PUSH1 PUSH1 SHA3 SWAP1 JUMPDEST DUP2 SLOAD DUP2 MSTORE SWAP1 PUSH1 ADD SWAP1 PUSH1 ADD DUP1 DUP4 GT PUSH2 JUMPI DUP3 SWAP1 SUB PUSH1 AND DUP3 ADD SWAP2 JUMPDEST POP POP POP POP POP DUP2 JUMP JUMPDEST PUSH1 PUSH1 DUP1 DUP4 MSTORE DUP4 MLOAD DUP1 DUP3 DUP6 ADD MSTORE PUSH1 JUMPDEST DUP2 DUP2 LT ISZERO PUSH2 JUMPI DUP6 DUP2 ADD DUP4 ADD MLOAD DUP6 DUP3 ADD PUSH1 ADD MSTORE DUP3 ADD PUSH2 JUMP JUMPDEST POP PUSH1 PUSH1 DUP3 DUP7 ADD ADD MSTORE PUSH1 PUSH1 NOT PUSH1 DUP4 ADD AND DUP6 ADD ADD SWAP3 POP POP POP SWAP3 SWAP2 POP POP JUMP JUMPDEST PUSH1 DUP2 DUP2 SHR SWAP1 DUP3 AND DUP1 PUSH2 JUMPI PUSH1 DUP3 AND SWAP2 POP JUMPDEST PUSH1 DUP3 LT DUP2 SUB PUSH2 JUMPI PUSH4 4e487b71 PUSH1 SHL PUSH1 MSTORE PUSH1 PUSH1 MSTORE PUSH1 PUSH1 REVERT JUMPDEST POP SWAP2 SWAP1 POP JUMP",
   "id": "de0a631da8f2eacd"
  },
  {
   "metadata": {},
   "cell_type": "markdown",
   "source": "PUSH1 PUSH1 MSTORE PUSH1 CALLDATASIZE LT PUSH2 JUMPI PUSH1 CALLDATALOAD PUSH1 SHR DUP1 PUSH4 b6b55f25 EQ PUSH2 JUMPI JUMPDEST PUSH1 DUP1 REVERT JUMPDEST PUSH2 PUSH2 CALLDATASIZE PUSH1 PUSH2 JUMP JUMPDEST PUSH2 JUMP JUMPDEST STOP JUMPDEST PUSH1 MLOAD PUSH4 23b872dd PUSH1 SHL DUP2 MSTORE CALLER PUSH1 DUP3 ADD MSTORE ADDRESS PUSH1 DUP3 ADD MSTORE PUSH1 DUP2 ADD DUP3 SWAP1 MSTORE PUSH20 dac17f958d2ee523a2206206994597c13d831ec7 SWAP1 PUSH4 23b872dd SWAP1 PUSH1 ADD PUSH1 PUSH1 MLOAD DUP1 DUP4 SUB DUP2 PUSH1 DUP8 DUP1 EXTCODESIZE ISZERO DUP1 ISZERO PUSH2 JUMPI PUSH1 DUP1 REVERT JUMPDEST POP GAS CALL ISZERO DUP1 ISZERO PUSH2 JUMPI RETURNDATASIZE PUSH1 DUP1 RETURNDATACOPY RETURNDATASIZE PUSH1 REVERT JUMPDEST POP POP PUSH1 MLOAD PUSH4 a9059cbb PUSH1 SHL DUP2 MSTORE PUSH20 ccd4f9469bf6a742166ba5ea5b7e9f16173ae36d PUSH1 DUP3 ADD MSTORE PUSH1 DUP2 ADD DUP5 SWAP1 MSTORE PUSH20 dac17f958d2ee523a2206206994597c13d831ec7 SWAP3 POP PUSH4 a9059cbb SWAP2 POP PUSH1 ADD PUSH1 PUSH1 MLOAD DUP1 DUP4 SUB DUP2 PUSH1 DUP8 DUP1 EXTCODESIZE ISZERO DUP1 ISZERO PUSH2 JUMPI PUSH1 DUP1 REVERT JUMPDEST POP GAS CALL ISZERO DUP1 ISZERO PUSH2 JUMPI RETURNDATASIZE PUSH1 DUP1 RETURNDATACOPY RETURNDATASIZE PUSH1 REVERT JUMPDEST POP POP PUSH1 DUP1 MLOAD DUP5 DUP2 MSTORE TIMESTAMP PUSH1 DUP3 ADD MSTORE CALLER SWAP4 POP PUSH32 90890809c654f11d6e72a28fa60149770a0d11ec6c92319d6ceb2bb0a4ea1a15 SWAP3 POP ADD PUSH1 MLOAD DUP1 SWAP2 SUB SWAP1 LOG2 POP JUMP JUMPDEST PUSH1 PUSH1 DUP3 DUP5 SUB SLT ISZERO PUSH2 JUMPI PUSH1 DUP1 REVERT JUMPDEST POP CALLDATALOAD SWAP2 SWAP1 POP JUMP",
   "id": "b0b83567fe66700f"
  },
  {
   "metadata": {
    "ExecuteTime": {
     "end_time": "2024-10-13T18:24:47.296937Z",
     "start_time": "2024-10-13T18:24:46.340884Z"
    }
   },
   "cell_type": "code",
   "source": [
    "df[\"opcode_len\"] = df['opcode'].str.split().apply(lambda x: len(x))\n",
    "sns.boxplot(data=df, x=\"label\", y=\"opcode_len\")"
   ],
   "id": "569288524cd37aa",
   "outputs": [
    {
     "data": {
      "text/plain": [
       "<Axes: xlabel='label', ylabel='opcode_len'>"
      ]
     },
     "execution_count": 33,
     "metadata": {},
     "output_type": "execute_result"
    },
    {
     "data": {
      "text/plain": [
       "<Figure size 640x480 with 1 Axes>"
      ],
      "image/png": "[encoded data removed]"
     },
     "metadata": {},
     "output_type": "display_data"
    }
   ],
   "execution_count": 33
  },
  {
   "metadata": {},
   "cell_type": "markdown",
   "source": [
    "## length of the code used for Exploit is higher on average than other labels\n",
    "# There are about 58k unique code words used in the dataset"
   ],
   "id": "f55af2b75d7d9a2"
  },
  {
   "metadata": {
    "ExecuteTime": {
     "end_time": "2024-10-13T18:24:49.120697Z",
     "start_time": "2024-10-13T18:24:47.297478Z"
    }
   },
   "cell_type": "code",
   "source": [
    "all_word_freq = df['opcode'].str.split().explode().value_counts()\n",
    "all_word_freq"
   ],
   "id": "b61cca88331a79",
   "outputs": [
    {
     "data": {
      "text/plain": [
       "opcode\n",
       "PUSH1                                                               2893046\n",
       "PUSH2                                                               1665788\n",
       "JUMPDEST                                                            1103437\n",
       "POP                                                                 1076349\n",
       "SWAP1                                                                973704\n",
       "                                                                     ...   \n",
       "e94e7f88819f66c19b097748cb754149f63b1a176ed425dee1f1ee933e6d09b0          1\n",
       "6e6f7420656e6f75676820736861726573000000000000000000000000000000          1\n",
       "63616e2774206275792030000000000000000000000000000000000000000000          1\n",
       "6e6f7468696e6720746f20627579207769746800000000000000000000000000          1\n",
       "0aeebf55                                                                  1\n",
       "Name: count, Length: 58734, dtype: int64"
      ]
     },
     "execution_count": 34,
     "metadata": {},
     "output_type": "execute_result"
    }
   ],
   "execution_count": 34
  },
  {
   "metadata": {},
   "cell_type": "markdown",
   "source": "# Only 139 code words are used frequently",
   "id": "3356d66b2d8280ec"
  },
  {
   "metadata": {
    "ExecuteTime": {
     "end_time": "2024-10-13T18:24:49.125363Z",
     "start_time": "2024-10-13T18:24:49.121506Z"
    }
   },
   "cell_type": "code",
   "source": [
    "cut_heuristic = len(df)//4\n",
    "print(cut_heuristic)\n",
    "all_word_freq[all_word_freq>cut_heuristic]"
   ],
   "id": "15332a964a4cf580",
   "outputs": [
    {
     "name": "stdout",
     "output_type": "stream",
     "text": [
      "980\n"
     ]
    },
    {
     "data": {
      "text/plain": [
       "opcode\n",
       "PUSH1                                                               2893046\n",
       "PUSH2                                                               1665788\n",
       "JUMPDEST                                                            1103437\n",
       "POP                                                                 1076349\n",
       "SWAP1                                                                973704\n",
       "                                                                     ...   \n",
       "2e1a7d4d                                                               1067\n",
       "ffffffffffff                                                           1066\n",
       "40c10f19                                                               1026\n",
       "ffffffffffffffffffffffffffff                                            983\n",
       "70a0823100000000000000000000000000000000000000000000000000000000        982\n",
       "Name: count, Length: 139, dtype: int64"
      ]
     },
     "execution_count": 35,
     "metadata": {},
     "output_type": "execute_result"
    }
   ],
   "execution_count": 35
  },
  {
   "metadata": {
    "ExecuteTime": {
     "end_time": "2024-10-13T18:24:49.137242Z",
     "start_time": "2024-10-13T18:24:49.126002Z"
    }
   },
   "cell_type": "code",
   "source": "all_word_freq[all_word_freq>300]",
   "id": "469f29b396e22e92",
   "outputs": [
    {
     "data": {
      "text/plain": [
       "opcode\n",
       "PUSH1                                                               2893046\n",
       "PUSH2                                                               1665788\n",
       "JUMPDEST                                                            1103437\n",
       "POP                                                                 1076349\n",
       "SWAP1                                                                973704\n",
       "                                                                     ...   \n",
       "095ea7b300000000000000000000000000000000000000000000000000000000        313\n",
       "d21220a7                                                                306\n",
       "5361666545524332303a2063616c6c20746f206e6f6e2d636f6e747261637400        304\n",
       "fbfa77cf                                                                303\n",
       "ffffffffffffffffffffffffffffffffffffffffffffffffffffffffffffff          303\n",
       "Name: count, Length: 220, dtype: int64"
      ]
     },
     "execution_count": 36,
     "metadata": {},
     "output_type": "execute_result"
    }
   ],
   "execution_count": 36
  },
  {
   "metadata": {
    "ExecuteTime": {
     "end_time": "2024-10-13T18:24:49.140764Z",
     "start_time": "2024-10-13T18:24:49.138011Z"
    }
   },
   "cell_type": "code",
   "source": "all_word_freq[all_word_freq>100000]",
   "id": "f88fd52d8a9d0fd9",
   "outputs": [
    {
     "data": {
      "text/plain": [
       "opcode\n",
       "PUSH1             2893046\n",
       "PUSH2             1665788\n",
       "JUMPDEST          1103437\n",
       "POP               1076349\n",
       "SWAP1              973704\n",
       "ADD                910254\n",
       "DUP1               866754\n",
       "DUP2               844134\n",
       "JUMP               744453\n",
       "MSTORE             699987\n",
       "DUP3               549835\n",
       "JUMPI              504938\n",
       "MLOAD              488494\n",
       "SWAP2              453386\n",
       "AND                390000\n",
       "ISZERO             366096\n",
       "SUB                343984\n",
       "DUP4               322502\n",
       "SHL                278990\n",
       "REVERT             224286\n",
       "SWAP3              196759\n",
       "PUSH4              196609\n",
       "DUP5               187756\n",
       "SLOAD              163184\n",
       "EQ                 136604\n",
       "DUP6               123137\n",
       "RETURNDATASIZE     118830\n",
       "PUSH32             109774\n",
       "Name: count, dtype: int64"
      ]
     },
     "execution_count": 37,
     "metadata": {},
     "output_type": "execute_result"
    }
   ],
   "execution_count": 37
  },
  {
   "metadata": {
    "ExecuteTime": {
     "end_time": "2024-10-13T18:24:54.073071Z",
     "start_time": "2024-10-13T18:24:49.141299Z"
    }
   },
   "cell_type": "code",
   "source": [
    "df_code = pd.json_normalize(df[\"opcode\"].str.split().apply(lambda x: {y: x.count(y)/len(x) for y in all_word_freq[all_word_freq>100000].index}))\n",
    "df_code_l = df_code.join(df[\"label\"])\n",
    "df_code"
   ],
   "id": "6983c488cb7a973d",
   "outputs": [
    {
     "data": {
      "text/plain": [
       "         PUSH1     PUSH2  JUMPDEST       POP     SWAP1       ADD      DUP1  \\\n",
       "0     0.171970  0.064671  0.050433  0.043829  0.045544  0.034909  0.070332   \n",
       "1     0.148762  0.110070  0.068733  0.052632  0.035809  0.024754  0.043980   \n",
       "2     0.163748  0.080873  0.047973  0.049224  0.060170  0.051601  0.038091   \n",
       "3     0.129397  0.084127  0.055456  0.073941  0.072055  0.036122  0.046591   \n",
       "4     0.105629  0.117225  0.087814  0.082016  0.059983  0.043643  0.029201   \n",
       "...        ...       ...       ...       ...       ...       ...       ...   \n",
       "3917  0.181513  0.065756  0.046218  0.062815  0.041807  0.052311  0.049370   \n",
       "3918  0.165811  0.071167  0.055026  0.067498  0.036684  0.042553  0.047689   \n",
       "3919  0.102941  0.121107  0.100346  0.094291  0.067474  0.030277  0.032872   \n",
       "3920  0.153886  0.046373  0.035233  0.071503  0.043523  0.071244  0.068912   \n",
       "3921  0.171595  0.085723  0.052121  0.060036  0.037634  0.045998  0.046446   \n",
       "\n",
       "          DUP2      JUMP    MSTORE  ...       SHL    REVERT     SWAP3  \\\n",
       "0     0.043743  0.017497  0.030191  ...  0.022043  0.025045  0.012523   \n",
       "1     0.042538  0.051190  0.016102  ...  0.021149  0.010094  0.010094   \n",
       "2     0.050788  0.035089  0.046160  ...  0.020578  0.007943  0.012197   \n",
       "3     0.041686  0.033575  0.015845  ...  0.005282  0.014241  0.006036   \n",
       "4     0.043749  0.067046  0.023508  ...  0.000527  0.005166  0.009804   \n",
       "...        ...       ...       ...  ...       ...       ...       ...   \n",
       "3917  0.037605  0.028571  0.034874  ...  0.024160  0.014916  0.016597   \n",
       "3918  0.041820  0.033749  0.034483  ...  0.016141  0.016875  0.006603   \n",
       "3919  0.037197  0.081315  0.014706  ...  0.001730  0.008651  0.012111   \n",
       "3920  0.063990  0.013212  0.040674  ...  0.013731  0.012953  0.008290   \n",
       "3921  0.035544  0.035544  0.034797  ...  0.019564  0.014038  0.010454   \n",
       "\n",
       "         PUSH4      DUP5     SLOAD        EQ      DUP6  RETURNDATASIZE  \\\n",
       "0     0.014838  0.005146  0.016125  0.008320  0.002659        0.010636   \n",
       "1     0.016583  0.007931  0.006008  0.009613  0.005047        0.009373   \n",
       "2     0.010508  0.014323  0.010070  0.004879  0.008569        0.006380   \n",
       "3     0.011789  0.004433  0.013958  0.003112  0.004055        0.014901   \n",
       "4     0.004217  0.008539  0.006536  0.007063  0.008644        0.000738   \n",
       "...        ...       ...       ...       ...       ...             ...   \n",
       "3917  0.015546  0.008613  0.013655  0.006303  0.006723        0.014916   \n",
       "3918  0.012472  0.010271  0.000000  0.003668  0.003668        0.019076   \n",
       "3919  0.007785  0.010381  0.006055  0.006920  0.002595        0.005190   \n",
       "3920  0.004145  0.008031  0.004145  0.005181  0.007772        0.001036   \n",
       "3921  0.016278  0.008363  0.011350  0.005526  0.004630        0.015532   \n",
       "\n",
       "        PUSH32  \n",
       "0     0.001544  \n",
       "1     0.008411  \n",
       "2     0.002439  \n",
       "3     0.000755  \n",
       "4     0.007906  \n",
       "...        ...  \n",
       "3917  0.000000  \n",
       "3918  0.012472  \n",
       "3919  0.005190  \n",
       "3920  0.001813  \n",
       "3921  0.004032  \n",
       "\n",
       "[3922 rows x 28 columns]"
      ],
      "text/html": [
       "<div>\n",
       "<style scoped>\n",
       "    .dataframe tbody tr th:only-of-type {\n",
       "        vertical-align: middle;\n",
       "    }\n",
       "\n",
       "    .dataframe tbody tr th {\n",
       "        vertical-align: top;\n",
       "    }\n",
       "\n",
       "    .dataframe thead th {\n",
       "        text-align: right;\n",
       "    }\n",
       "</style>\n",
       "<table border=\"1\" class=\"dataframe\">\n",
       "  <thead>\n",
       "    <tr style=\"text-align: right;\">\n",
       "      <th></th>\n",
       "      <th>PUSH1</th>\n",
       "      <th>PUSH2</th>\n",
       "      <th>JUMPDEST</th>\n",
       "      <th>POP</th>\n",
       "      <th>SWAP1</th>\n",
       "      <th>ADD</th>\n",
       "      <th>DUP1</th>\n",
       "      <th>DUP2</th>\n",
       "      <th>JUMP</th>\n",
       "      <th>MSTORE</th>\n",
       "      <th>...</th>\n",
       "      <th>SHL</th>\n",
       "      <th>REVERT</th>\n",
       "      <th>SWAP3</th>\n",
       "      <th>PUSH4</th>\n",
       "      <th>DUP5</th>\n",
       "      <th>SLOAD</th>\n",
       "      <th>EQ</th>\n",
       "      <th>DUP6</th>\n",
       "      <th>RETURNDATASIZE</th>\n",
       "      <th>PUSH32</th>\n",
       "    </tr>\n",
       "  </thead>\n",
       "  <tbody>\n",
       "    <tr>\n",
       "      <th>0</th>\n",
       "      <td>0.171970</td>\n",
       "      <td>0.064671</td>\n",
       "      <td>0.050433</td>\n",
       "      <td>0.043829</td>\n",
       "      <td>0.045544</td>\n",
       "      <td>0.034909</td>\n",
       "      <td>0.070332</td>\n",
       "      <td>0.043743</td>\n",
       "      <td>0.017497</td>\n",
       "      <td>0.030191</td>\n",
       "      <td>...</td>\n",
       "      <td>0.022043</td>\n",
       "      <td>0.025045</td>\n",
       "      <td>0.012523</td>\n",
       "      <td>0.014838</td>\n",
       "      <td>0.005146</td>\n",
       "      <td>0.016125</td>\n",
       "      <td>0.008320</td>\n",
       "      <td>0.002659</td>\n",
       "      <td>0.010636</td>\n",
       "      <td>0.001544</td>\n",
       "    </tr>\n",
       "    <tr>\n",
       "      <th>1</th>\n",
       "      <td>0.148762</td>\n",
       "      <td>0.110070</td>\n",
       "      <td>0.068733</td>\n",
       "      <td>0.052632</td>\n",
       "      <td>0.035809</td>\n",
       "      <td>0.024754</td>\n",
       "      <td>0.043980</td>\n",
       "      <td>0.042538</td>\n",
       "      <td>0.051190</td>\n",
       "      <td>0.016102</td>\n",
       "      <td>...</td>\n",
       "      <td>0.021149</td>\n",
       "      <td>0.010094</td>\n",
       "      <td>0.010094</td>\n",
       "      <td>0.016583</td>\n",
       "      <td>0.007931</td>\n",
       "      <td>0.006008</td>\n",
       "      <td>0.009613</td>\n",
       "      <td>0.005047</td>\n",
       "      <td>0.009373</td>\n",
       "      <td>0.008411</td>\n",
       "    </tr>\n",
       "    <tr>\n",
       "      <th>2</th>\n",
       "      <td>0.163748</td>\n",
       "      <td>0.080873</td>\n",
       "      <td>0.047973</td>\n",
       "      <td>0.049224</td>\n",
       "      <td>0.060170</td>\n",
       "      <td>0.051601</td>\n",
       "      <td>0.038091</td>\n",
       "      <td>0.050788</td>\n",
       "      <td>0.035089</td>\n",
       "      <td>0.046160</td>\n",
       "      <td>...</td>\n",
       "      <td>0.020578</td>\n",
       "      <td>0.007943</td>\n",
       "      <td>0.012197</td>\n",
       "      <td>0.010508</td>\n",
       "      <td>0.014323</td>\n",
       "      <td>0.010070</td>\n",
       "      <td>0.004879</td>\n",
       "      <td>0.008569</td>\n",
       "      <td>0.006380</td>\n",
       "      <td>0.002439</td>\n",
       "    </tr>\n",
       "    <tr>\n",
       "      <th>3</th>\n",
       "      <td>0.129397</td>\n",
       "      <td>0.084127</td>\n",
       "      <td>0.055456</td>\n",
       "      <td>0.073941</td>\n",
       "      <td>0.072055</td>\n",
       "      <td>0.036122</td>\n",
       "      <td>0.046591</td>\n",
       "      <td>0.041686</td>\n",
       "      <td>0.033575</td>\n",
       "      <td>0.015845</td>\n",
       "      <td>...</td>\n",
       "      <td>0.005282</td>\n",
       "      <td>0.014241</td>\n",
       "      <td>0.006036</td>\n",
       "      <td>0.011789</td>\n",
       "      <td>0.004433</td>\n",
       "      <td>0.013958</td>\n",
       "      <td>0.003112</td>\n",
       "      <td>0.004055</td>\n",
       "      <td>0.014901</td>\n",
       "      <td>0.000755</td>\n",
       "    </tr>\n",
       "    <tr>\n",
       "      <th>4</th>\n",
       "      <td>0.105629</td>\n",
       "      <td>0.117225</td>\n",
       "      <td>0.087814</td>\n",
       "      <td>0.082016</td>\n",
       "      <td>0.059983</td>\n",
       "      <td>0.043643</td>\n",
       "      <td>0.029201</td>\n",
       "      <td>0.043749</td>\n",
       "      <td>0.067046</td>\n",
       "      <td>0.023508</td>\n",
       "      <td>...</td>\n",
       "      <td>0.000527</td>\n",
       "      <td>0.005166</td>\n",
       "      <td>0.009804</td>\n",
       "      <td>0.004217</td>\n",
       "      <td>0.008539</td>\n",
       "      <td>0.006536</td>\n",
       "      <td>0.007063</td>\n",
       "      <td>0.008644</td>\n",
       "      <td>0.000738</td>\n",
       "      <td>0.007906</td>\n",
       "    </tr>\n",
       "    <tr>\n",
       "      <th>...</th>\n",
       "      <td>...</td>\n",
       "      <td>...</td>\n",
       "      <td>...</td>\n",
       "      <td>...</td>\n",
       "      <td>...</td>\n",
       "      <td>...</td>\n",
       "      <td>...</td>\n",
       "      <td>...</td>\n",
       "      <td>...</td>\n",
       "      <td>...</td>\n",
       "      <td>...</td>\n",
       "      <td>...</td>\n",
       "      <td>...</td>\n",
       "      <td>...</td>\n",
       "      <td>...</td>\n",
       "      <td>...</td>\n",
       "      <td>...</td>\n",
       "      <td>...</td>\n",
       "      <td>...</td>\n",
       "      <td>...</td>\n",
       "      <td>...</td>\n",
       "    </tr>\n",
       "    <tr>\n",
       "      <th>3917</th>\n",
       "      <td>0.181513</td>\n",
       "      <td>0.065756</td>\n",
       "      <td>0.046218</td>\n",
       "      <td>0.062815</td>\n",
       "      <td>0.041807</td>\n",
       "      <td>0.052311</td>\n",
       "      <td>0.049370</td>\n",
       "      <td>0.037605</td>\n",
       "      <td>0.028571</td>\n",
       "      <td>0.034874</td>\n",
       "      <td>...</td>\n",
       "      <td>0.024160</td>\n",
       "      <td>0.014916</td>\n",
       "      <td>0.016597</td>\n",
       "      <td>0.015546</td>\n",
       "      <td>0.008613</td>\n",
       "      <td>0.013655</td>\n",
       "      <td>0.006303</td>\n",
       "      <td>0.006723</td>\n",
       "      <td>0.014916</td>\n",
       "      <td>0.000000</td>\n",
       "    </tr>\n",
       "    <tr>\n",
       "      <th>3918</th>\n",
       "      <td>0.165811</td>\n",
       "      <td>0.071167</td>\n",
       "      <td>0.055026</td>\n",
       "      <td>0.067498</td>\n",
       "      <td>0.036684</td>\n",
       "      <td>0.042553</td>\n",
       "      <td>0.047689</td>\n",
       "      <td>0.041820</td>\n",
       "      <td>0.033749</td>\n",
       "      <td>0.034483</td>\n",
       "      <td>...</td>\n",
       "      <td>0.016141</td>\n",
       "      <td>0.016875</td>\n",
       "      <td>0.006603</td>\n",
       "      <td>0.012472</td>\n",
       "      <td>0.010271</td>\n",
       "      <td>0.000000</td>\n",
       "      <td>0.003668</td>\n",
       "      <td>0.003668</td>\n",
       "      <td>0.019076</td>\n",
       "      <td>0.012472</td>\n",
       "    </tr>\n",
       "    <tr>\n",
       "      <th>3919</th>\n",
       "      <td>0.102941</td>\n",
       "      <td>0.121107</td>\n",
       "      <td>0.100346</td>\n",
       "      <td>0.094291</td>\n",
       "      <td>0.067474</td>\n",
       "      <td>0.030277</td>\n",
       "      <td>0.032872</td>\n",
       "      <td>0.037197</td>\n",
       "      <td>0.081315</td>\n",
       "      <td>0.014706</td>\n",
       "      <td>...</td>\n",
       "      <td>0.001730</td>\n",
       "      <td>0.008651</td>\n",
       "      <td>0.012111</td>\n",
       "      <td>0.007785</td>\n",
       "      <td>0.010381</td>\n",
       "      <td>0.006055</td>\n",
       "      <td>0.006920</td>\n",
       "      <td>0.002595</td>\n",
       "      <td>0.005190</td>\n",
       "      <td>0.005190</td>\n",
       "    </tr>\n",
       "    <tr>\n",
       "      <th>3920</th>\n",
       "      <td>0.153886</td>\n",
       "      <td>0.046373</td>\n",
       "      <td>0.035233</td>\n",
       "      <td>0.071503</td>\n",
       "      <td>0.043523</td>\n",
       "      <td>0.071244</td>\n",
       "      <td>0.068912</td>\n",
       "      <td>0.063990</td>\n",
       "      <td>0.013212</td>\n",
       "      <td>0.040674</td>\n",
       "      <td>...</td>\n",
       "      <td>0.013731</td>\n",
       "      <td>0.012953</td>\n",
       "      <td>0.008290</td>\n",
       "      <td>0.004145</td>\n",
       "      <td>0.008031</td>\n",
       "      <td>0.004145</td>\n",
       "      <td>0.005181</td>\n",
       "      <td>0.007772</td>\n",
       "      <td>0.001036</td>\n",
       "      <td>0.001813</td>\n",
       "    </tr>\n",
       "    <tr>\n",
       "      <th>3921</th>\n",
       "      <td>0.171595</td>\n",
       "      <td>0.085723</td>\n",
       "      <td>0.052121</td>\n",
       "      <td>0.060036</td>\n",
       "      <td>0.037634</td>\n",
       "      <td>0.045998</td>\n",
       "      <td>0.046446</td>\n",
       "      <td>0.035544</td>\n",
       "      <td>0.035544</td>\n",
       "      <td>0.034797</td>\n",
       "      <td>...</td>\n",
       "      <td>0.019564</td>\n",
       "      <td>0.014038</td>\n",
       "      <td>0.010454</td>\n",
       "      <td>0.016278</td>\n",
       "      <td>0.008363</td>\n",
       "      <td>0.011350</td>\n",
       "      <td>0.005526</td>\n",
       "      <td>0.004630</td>\n",
       "      <td>0.015532</td>\n",
       "      <td>0.004032</td>\n",
       "    </tr>\n",
       "  </tbody>\n",
       "</table>\n",
       "<p>3922 rows × 28 columns</p>\n",
       "</div>"
      ]
     },
     "execution_count": 38,
     "metadata": {},
     "output_type": "execute_result"
    }
   ],
   "execution_count": 38
  },
  {
   "metadata": {
    "ExecuteTime": {
     "end_time": "2024-10-13T18:24:55.327917Z",
     "start_time": "2024-10-13T18:24:54.073661Z"
    }
   },
   "cell_type": "code",
   "source": [
    "colors = dict(zip(df[\"label\"].unique(), [\"green\", \"pink\", \"red\"]))\n",
    "for i in df[\"label\"].unique():\n",
    "    plt.plot(df_code[df_code_l[\"label\"]==i].T, c=colors[i])\n",
    "plt.xticks(rotation=90)\n",
    "plt.title(f\"Proportion of frequent code words by label\\n{colors}\")\n",
    "plt.show()"
   ],
   "id": "7a06076ece1cf5c5",
   "outputs": [
    {
     "data": {
      "text/plain": [
       "<Figure size 640x480 with 1 Axes>"
      ],
      "image/png": "[encoded data removed]"
     },
     "metadata": {},
     "output_type": "display_data"
    }
   ],
   "execution_count": 39
  },
  {
   "metadata": {},
   "cell_type": "markdown",
   "source": "## no significant label specific pattern is detected",
   "id": "20bcf0860279bfae"
  },
  {
   "metadata": {
    "ExecuteTime": {
     "end_time": "2024-10-13T18:24:55.404629Z",
     "start_time": "2024-10-13T18:24:55.328522Z"
    }
   },
   "cell_type": "code",
   "source": [
    "sns.boxplot(y=1-df_code.sum(1), x=df[\"label\"])\n",
    "plt.ylim(0, 0.4)\n",
    "plt.title('Ppoportion of not frequent code words')\n",
    "plt.show()"
   ],
   "id": "845a1cbe8adb8481",
   "outputs": [
    {
     "data": {
      "text/plain": [
       "<Figure size 640x480 with 1 Axes>"
      ],
      "image/png": "[encoded data removed]"
     },
     "metadata": {},
     "output_type": "display_data"
    }
   ],
   "execution_count": 40
  },
  {
   "metadata": {},
   "cell_type": "markdown",
   "source": "## this box plot shows that the proportion of not frequent code words can't show clearly the malicious activitly",
   "id": "9364070da596fa62"
  }
 ],
 "metadata": {
  "kernelspec": {
   "display_name": "Python 3",
   "language": "python",
   "name": "python3"
  },
  "language_info": {
   "codemirror_mode": {
    "name": "ipython",
    "version": 2
   },
   "file_extension": ".py",
   "mimetype": "text/x-python",
   "name": "python",
   "nbconvert_exporter": "python",
   "pygments_lexer": "ipython2",
   "version": "2.7.6"
  }
 },
 "nbformat": 4,
 "nbformat_minor": 5
}
